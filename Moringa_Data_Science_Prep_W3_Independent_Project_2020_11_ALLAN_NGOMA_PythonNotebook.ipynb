{
  "nbformat": 4,
  "nbformat_minor": 0,
  "metadata": {
    "colab": {
      "name": "Moringa_Data_Science_Prep_W3_Independent_Project_2020_11_ALLAN_NGOMA_PythonNotebook",
      "provenance": [],
      "collapsed_sections": [],
      "toc_visible": true,
      "authorship_tag": "ABX9TyNxO+QRLwyWJOfdGodFEoYl",
      "include_colab_link": true
    },
    "kernelspec": {
      "name": "python3",
      "display_name": "Python 3"
    }
  },
  "cells": [
    {
      "cell_type": "markdown",
      "metadata": {
        "id": "view-in-github",
        "colab_type": "text"
      },
      "source": [
        "<a href=\"https://colab.research.google.com/github/allanstar-byte/IP_WEEK_3/blob/master/Moringa_Data_Science_Prep_W3_Independent_Project_2020_11_ALLAN_NGOMA_PythonNotebook.ipynb\" target=\"_parent\"><img src=\"https://colab.research.google.com/assets/colab-badge.svg\" alt=\"Open In Colab\"/></a>"
      ]
    },
    {
      "cell_type": "markdown",
      "metadata": {
        "id": "h-O3A5R7-Cka",
        "colab_type": "text"
      },
      "source": [
        "# **1. Importing the Libraries to be used**"
      ]
    },
    {
      "cell_type": "code",
      "metadata": {
        "id": "Iwgbsn7q-Qa0",
        "colab_type": "code",
        "colab": {}
      },
      "source": [
        "# importing pandas library\n",
        "\n",
        "import pandas as pd\n",
        "# as well as the Numpy library\n",
        "import numpy as np"
      ],
      "execution_count": null,
      "outputs": []
    },
    {
      "cell_type": "markdown",
      "metadata": {
        "id": "4v6zNxqq-k-z",
        "colab_type": "text"
      },
      "source": [
        "# **2. Loading our Datasets**"
      ]
    },
    {
      "cell_type": "code",
      "metadata": {
        "id": "WChLYeSZ-pWu",
        "colab_type": "code",
        "colab": {
          "base_uri": "https://localhost:8080/",
          "height": 359
        },
        "outputId": "abcbc54e-26cb-4cff-a5a1-b311fc9cc5e2"
      },
      "source": [
        "# importing CDR_Description.xls dataset\n",
        "df1 = pd.read_excel('/content/CDR_description.xlsx') \n",
        "df1"
      ],
      "execution_count": null,
      "outputs": [
        {
          "output_type": "execute_result",
          "data": {
            "text/html": [
              "<div>\n",
              "<style scoped>\n",
              "    .dataframe tbody tr th:only-of-type {\n",
              "        vertical-align: middle;\n",
              "    }\n",
              "\n",
              "    .dataframe tbody tr th {\n",
              "        vertical-align: top;\n",
              "    }\n",
              "\n",
              "    .dataframe thead th {\n",
              "        text-align: right;\n",
              "    }\n",
              "</style>\n",
              "<table border=\"1\" class=\"dataframe\">\n",
              "  <thead>\n",
              "    <tr style=\"text-align: right;\">\n",
              "      <th></th>\n",
              "      <th>Column name</th>\n",
              "      <th>Description</th>\n",
              "      <th>Format</th>\n",
              "    </tr>\n",
              "  </thead>\n",
              "  <tbody>\n",
              "    <tr>\n",
              "      <th>0</th>\n",
              "      <td>PRODUCT</td>\n",
              "      <td>Voice or SMS</td>\n",
              "      <td>String</td>\n",
              "    </tr>\n",
              "    <tr>\n",
              "      <th>1</th>\n",
              "      <td>VALUE</td>\n",
              "      <td>Billing price</td>\n",
              "      <td>Integer</td>\n",
              "    </tr>\n",
              "    <tr>\n",
              "      <th>2</th>\n",
              "      <td>DATE_TIME</td>\n",
              "      <td>Time in format yyyy-MM-dd hh:mm:ss.0</td>\n",
              "      <td>String</td>\n",
              "    </tr>\n",
              "    <tr>\n",
              "      <th>3</th>\n",
              "      <td>CELL_ON_SITE</td>\n",
              "      <td>Which cell in the site was used (not needed here)</td>\n",
              "      <td>Integer</td>\n",
              "    </tr>\n",
              "    <tr>\n",
              "      <th>4</th>\n",
              "      <td>DW_A_NUMBER_INT</td>\n",
              "      <td>Anonymized phone number of the person for whic...</td>\n",
              "      <td>String</td>\n",
              "    </tr>\n",
              "    <tr>\n",
              "      <th>5</th>\n",
              "      <td>DW_B_NUMBER_INT</td>\n",
              "      <td>Anonymized phone number of the counterparty</td>\n",
              "      <td>String</td>\n",
              "    </tr>\n",
              "    <tr>\n",
              "      <th>6</th>\n",
              "      <td>COUNTRY_A</td>\n",
              "      <td>Country of party A (useless here)</td>\n",
              "      <td>String</td>\n",
              "    </tr>\n",
              "    <tr>\n",
              "      <th>7</th>\n",
              "      <td>COUNTRY_B</td>\n",
              "      <td>Country of party B (useless here)</td>\n",
              "      <td>String</td>\n",
              "    </tr>\n",
              "    <tr>\n",
              "      <th>8</th>\n",
              "      <td>CELL_ID</td>\n",
              "      <td>ID of the cell</td>\n",
              "      <td>String</td>\n",
              "    </tr>\n",
              "    <tr>\n",
              "      <th>9</th>\n",
              "      <td>SITE_ID</td>\n",
              "      <td>ID of the SITE</td>\n",
              "      <td>String</td>\n",
              "    </tr>\n",
              "  </tbody>\n",
              "</table>\n",
              "</div>"
            ],
            "text/plain": [
              "       Column name                                        Description   Format\n",
              "0          PRODUCT                                       Voice or SMS   String\n",
              "1            VALUE                                      Billing price  Integer\n",
              "2        DATE_TIME               Time in format yyyy-MM-dd hh:mm:ss.0   String\n",
              "3     CELL_ON_SITE  Which cell in the site was used (not needed here)  Integer\n",
              "4  DW_A_NUMBER_INT  Anonymized phone number of the person for whic...   String\n",
              "5  DW_B_NUMBER_INT        Anonymized phone number of the counterparty   String\n",
              "6        COUNTRY_A                  Country of party A (useless here)   String\n",
              "7        COUNTRY_B                  Country of party B (useless here)   String\n",
              "8          CELL_ID                                     ID of the cell   String\n",
              "9          SITE_ID                                     ID of the SITE   String"
            ]
          },
          "metadata": {
            "tags": []
          },
          "execution_count": 2
        }
      ]
    },
    {
      "cell_type": "code",
      "metadata": {
        "id": "OAQiLPG-_iSZ",
        "colab_type": "code",
        "colab": {
          "base_uri": "https://localhost:8080/",
          "height": 204
        },
        "outputId": "fc94cdcd-cf0e-4343-f7ce-b4a667d1e535"
      },
      "source": [
        "#importing telcom_dataset.csv\n",
        "df2 = pd.read_csv('/content/Telcom_dataset.csv') \n",
        "df2.head()"
      ],
      "execution_count": null,
      "outputs": [
        {
          "output_type": "execute_result",
          "data": {
            "text/html": [
              "<div>\n",
              "<style scoped>\n",
              "    .dataframe tbody tr th:only-of-type {\n",
              "        vertical-align: middle;\n",
              "    }\n",
              "\n",
              "    .dataframe tbody tr th {\n",
              "        vertical-align: top;\n",
              "    }\n",
              "\n",
              "    .dataframe thead th {\n",
              "        text-align: right;\n",
              "    }\n",
              "</style>\n",
              "<table border=\"1\" class=\"dataframe\">\n",
              "  <thead>\n",
              "    <tr style=\"text-align: right;\">\n",
              "      <th></th>\n",
              "      <th>PRODUTC</th>\n",
              "      <th>VALUE</th>\n",
              "      <th>DATE_TIME</th>\n",
              "      <th>CELL_ON_SITE</th>\n",
              "      <th>DW_A_NUMBER_INT</th>\n",
              "      <th>DW_B_NUMBER_INT</th>\n",
              "      <th>COUNTRY_A</th>\n",
              "      <th>COUNTRY_B</th>\n",
              "      <th>CELL_ID</th>\n",
              "      <th>SITE_ID</th>\n",
              "    </tr>\n",
              "  </thead>\n",
              "  <tbody>\n",
              "    <tr>\n",
              "      <th>0</th>\n",
              "      <td>Voice</td>\n",
              "      <td>0</td>\n",
              "      <td>04:37.0</td>\n",
              "      <td>1</td>\n",
              "      <td>49fae048b547780</td>\n",
              "      <td>1a49f8b0ded9de6</td>\n",
              "      <td>19e2e</td>\n",
              "      <td>19e2e</td>\n",
              "      <td>/TJNe+Mmtu</td>\n",
              "      <td>/TJNe+Mmtu</td>\n",
              "    </tr>\n",
              "    <tr>\n",
              "      <th>1</th>\n",
              "      <td>sms</td>\n",
              "      <td>0</td>\n",
              "      <td>05:25.0</td>\n",
              "      <td>0</td>\n",
              "      <td>7a54a6eaee19e65</td>\n",
              "      <td>93343ba6e41af95</td>\n",
              "      <td>19e2e</td>\n",
              "      <td>19e2e</td>\n",
              "      <td>/+cKZKIp41</td>\n",
              "      <td>/+cKZKIp41</td>\n",
              "    </tr>\n",
              "    <tr>\n",
              "      <th>2</th>\n",
              "      <td>sms</td>\n",
              "      <td>25</td>\n",
              "      <td>05:41.0</td>\n",
              "      <td>0</td>\n",
              "      <td>6008887b0207d82</td>\n",
              "      <td>7aacc9709ce0a20</td>\n",
              "      <td>19e2e</td>\n",
              "      <td>19e2e</td>\n",
              "      <td>/u0FSD+ahi</td>\n",
              "      <td>/u0FSD+ahi</td>\n",
              "    </tr>\n",
              "    <tr>\n",
              "      <th>3</th>\n",
              "      <td>Voice</td>\n",
              "      <td>56</td>\n",
              "      <td>05:42.0</td>\n",
              "      <td>1</td>\n",
              "      <td>7370032e20f4e96</td>\n",
              "      <td>6af4a60e74c91d3</td>\n",
              "      <td>19e2e</td>\n",
              "      <td>19e2e</td>\n",
              "      <td>#NAME?</td>\n",
              "      <td>#NAME?</td>\n",
              "    </tr>\n",
              "    <tr>\n",
              "      <th>4</th>\n",
              "      <td>Voice</td>\n",
              "      <td>14</td>\n",
              "      <td>06:29.0</td>\n",
              "      <td>1</td>\n",
              "      <td>966ba4656e38e62</td>\n",
              "      <td>02aa736ee555d5c</td>\n",
              "      <td>19e2e</td>\n",
              "      <td>19e2e</td>\n",
              "      <td>051KhYDCpv</td>\n",
              "      <td>051KhYDCpv</td>\n",
              "    </tr>\n",
              "  </tbody>\n",
              "</table>\n",
              "</div>"
            ],
            "text/plain": [
              "  PRODUTC  VALUE DATE_TIME  ... COUNTRY_B     CELL_ID     SITE_ID\n",
              "0   Voice      0   04:37.0  ...     19e2e  /TJNe+Mmtu  /TJNe+Mmtu\n",
              "1     sms      0   05:25.0  ...     19e2e  /+cKZKIp41  /+cKZKIp41\n",
              "2     sms     25   05:41.0  ...     19e2e  /u0FSD+ahi  /u0FSD+ahi\n",
              "3   Voice     56   05:42.0  ...     19e2e      #NAME?      #NAME?\n",
              "4   Voice     14   06:29.0  ...     19e2e  051KhYDCpv  051KhYDCpv\n",
              "\n",
              "[5 rows x 10 columns]"
            ]
          },
          "metadata": {
            "tags": []
          },
          "execution_count": 3
        }
      ]
    },
    {
      "cell_type": "code",
      "metadata": {
        "id": "cnSfej1xAEE2",
        "colab_type": "code",
        "colab": {
          "base_uri": "https://localhost:8080/",
          "height": 204
        },
        "outputId": "2a2213ef-d9bc-47da-f32b-c9c075548628"
      },
      "source": [
        "#importing telcom_dataset2.csv\n",
        "df3 = pd.read_csv('/content/Telcom_dataset2.csv') \n",
        "df3.head()"
      ],
      "execution_count": null,
      "outputs": [
        {
          "output_type": "execute_result",
          "data": {
            "text/html": [
              "<div>\n",
              "<style scoped>\n",
              "    .dataframe tbody tr th:only-of-type {\n",
              "        vertical-align: middle;\n",
              "    }\n",
              "\n",
              "    .dataframe tbody tr th {\n",
              "        vertical-align: top;\n",
              "    }\n",
              "\n",
              "    .dataframe thead th {\n",
              "        text-align: right;\n",
              "    }\n",
              "</style>\n",
              "<table border=\"1\" class=\"dataframe\">\n",
              "  <thead>\n",
              "    <tr style=\"text-align: right;\">\n",
              "      <th></th>\n",
              "      <th>PRODUCT</th>\n",
              "      <th>VALUE</th>\n",
              "      <th>DATE_TIME</th>\n",
              "      <th>CELL_ON_SITE</th>\n",
              "      <th>DW_A_NUMBER</th>\n",
              "      <th>DW_B_NUMBER</th>\n",
              "      <th>COUNTRY_A</th>\n",
              "      <th>COUNTRY_B</th>\n",
              "      <th>CELL_ID</th>\n",
              "      <th>SITE_ID</th>\n",
              "    </tr>\n",
              "  </thead>\n",
              "  <tbody>\n",
              "    <tr>\n",
              "      <th>0</th>\n",
              "      <td>sms</td>\n",
              "      <td>0</td>\n",
              "      <td>2012-05-07 23:02:06.0</td>\n",
              "      <td>2</td>\n",
              "      <td>32255675c3b6fe3</td>\n",
              "      <td>1aa7ae01386e9fb</td>\n",
              "      <td>19e2e</td>\n",
              "      <td>19e2e</td>\n",
              "      <td>+854AcBQT2</td>\n",
              "      <td>+854AcBQT2</td>\n",
              "    </tr>\n",
              "    <tr>\n",
              "      <th>1</th>\n",
              "      <td>Voice</td>\n",
              "      <td>0</td>\n",
              "      <td>2012-05-07 23:03:44.0</td>\n",
              "      <td>1</td>\n",
              "      <td>ff16d6ac74c1c64</td>\n",
              "      <td>87d87309c15a8c9</td>\n",
              "      <td>19e2e</td>\n",
              "      <td>19e2e</td>\n",
              "      <td>+854AcBQT2</td>\n",
              "      <td>+854AcBQT2</td>\n",
              "    </tr>\n",
              "    <tr>\n",
              "      <th>2</th>\n",
              "      <td>sms</td>\n",
              "      <td>0</td>\n",
              "      <td>2012-05-07 23:04:06.0</td>\n",
              "      <td>0</td>\n",
              "      <td>98d9f2fb5ff624b</td>\n",
              "      <td>93343ba6e41af95</td>\n",
              "      <td>19e2e</td>\n",
              "      <td>19e2e</td>\n",
              "      <td>+laSrk7g6q</td>\n",
              "      <td>+laSrk7g6q</td>\n",
              "    </tr>\n",
              "    <tr>\n",
              "      <th>3</th>\n",
              "      <td>Voice</td>\n",
              "      <td>37</td>\n",
              "      <td>2012-05-07 23:04:48.0</td>\n",
              "      <td>1</td>\n",
              "      <td>3f9c8a33ec7be1f</td>\n",
              "      <td>7d05a38f89c49d8</td>\n",
              "      <td>19e2e</td>\n",
              "      <td>19e2e</td>\n",
              "      <td>/xvRrCVKoQ</td>\n",
              "      <td>/xvRrCVKoQ</td>\n",
              "    </tr>\n",
              "    <tr>\n",
              "      <th>4</th>\n",
              "      <td>sms</td>\n",
              "      <td>25</td>\n",
              "      <td>2012-05-07 23:04:58.0</td>\n",
              "      <td>1</td>\n",
              "      <td>7bcccc03adf3864</td>\n",
              "      <td>56a5d5430d2fa86</td>\n",
              "      <td>19e2e</td>\n",
              "      <td>19e2e</td>\n",
              "      <td>+bO+qkSonO</td>\n",
              "      <td>+bO+qkSonO</td>\n",
              "    </tr>\n",
              "  </tbody>\n",
              "</table>\n",
              "</div>"
            ],
            "text/plain": [
              "  PRODUCT  VALUE              DATE_TIME  ... COUNTRY_B     CELL_ID     SITE_ID\n",
              "0     sms      0  2012-05-07 23:02:06.0  ...     19e2e  +854AcBQT2  +854AcBQT2\n",
              "1   Voice      0  2012-05-07 23:03:44.0  ...     19e2e  +854AcBQT2  +854AcBQT2\n",
              "2     sms      0  2012-05-07 23:04:06.0  ...     19e2e  +laSrk7g6q  +laSrk7g6q\n",
              "3   Voice     37  2012-05-07 23:04:48.0  ...     19e2e  /xvRrCVKoQ  /xvRrCVKoQ\n",
              "4     sms     25  2012-05-07 23:04:58.0  ...     19e2e  +bO+qkSonO  +bO+qkSonO\n",
              "\n",
              "[5 rows x 10 columns]"
            ]
          },
          "metadata": {
            "tags": []
          },
          "execution_count": 4
        }
      ]
    },
    {
      "cell_type": "code",
      "metadata": {
        "id": "YVRsnS--ATjM",
        "colab_type": "code",
        "colab": {
          "base_uri": "https://localhost:8080/",
          "height": 204
        },
        "outputId": "5daa35e8-b036-4c16-84d9-f5521a24f26f"
      },
      "source": [
        "#importing telcom_dataset3.csv\n",
        "df4 = pd.read_csv('/content/Telcom_dataset3.csv') \n",
        "df4.head()"
      ],
      "execution_count": null,
      "outputs": [
        {
          "output_type": "execute_result",
          "data": {
            "text/html": [
              "<div>\n",
              "<style scoped>\n",
              "    .dataframe tbody tr th:only-of-type {\n",
              "        vertical-align: middle;\n",
              "    }\n",
              "\n",
              "    .dataframe tbody tr th {\n",
              "        vertical-align: top;\n",
              "    }\n",
              "\n",
              "    .dataframe thead th {\n",
              "        text-align: right;\n",
              "    }\n",
              "</style>\n",
              "<table border=\"1\" class=\"dataframe\">\n",
              "  <thead>\n",
              "    <tr style=\"text-align: right;\">\n",
              "      <th></th>\n",
              "      <th>PRODUCT</th>\n",
              "      <th>VALUE</th>\n",
              "      <th>DATE_TIME</th>\n",
              "      <th>CELL_ON_SITE</th>\n",
              "      <th>DW_A_NUMBER_INT</th>\n",
              "      <th>DW_B_NUMBER_INT</th>\n",
              "      <th>COUNTRY_A</th>\n",
              "      <th>COUNTRY_B</th>\n",
              "      <th>CELLID</th>\n",
              "      <th>SIET_ID</th>\n",
              "    </tr>\n",
              "  </thead>\n",
              "  <tbody>\n",
              "    <tr>\n",
              "      <th>0</th>\n",
              "      <td>Voice</td>\n",
              "      <td>61</td>\n",
              "      <td>2012-05-08 23:01:28.0</td>\n",
              "      <td>2</td>\n",
              "      <td>966f68353622feb</td>\n",
              "      <td>ffd53a3bb2db6f1</td>\n",
              "      <td>19e2e</td>\n",
              "      <td>19e2e</td>\n",
              "      <td>+38u2u/rfx</td>\n",
              "      <td>+38u2u/rfx</td>\n",
              "    </tr>\n",
              "    <tr>\n",
              "      <th>1</th>\n",
              "      <td>sms</td>\n",
              "      <td>0</td>\n",
              "      <td>2012-05-08 23:01:31.0</td>\n",
              "      <td>1</td>\n",
              "      <td>a0a597384c612d7</td>\n",
              "      <td>cf3b218f1dde792</td>\n",
              "      <td>19e2e</td>\n",
              "      <td>19e2e</td>\n",
              "      <td>+Fs4mTvdKx</td>\n",
              "      <td>+Fs4mTvdKx</td>\n",
              "    </tr>\n",
              "    <tr>\n",
              "      <th>2</th>\n",
              "      <td>Voice</td>\n",
              "      <td>10</td>\n",
              "      <td>2012-05-08 23:02:59.0</td>\n",
              "      <td>1</td>\n",
              "      <td>5441a9a58c97132</td>\n",
              "      <td>52f8b299515b9b7</td>\n",
              "      <td>19e2e</td>\n",
              "      <td>19e2e</td>\n",
              "      <td>+ZaaZozy/+</td>\n",
              "      <td>+ZaaZozy/+</td>\n",
              "    </tr>\n",
              "    <tr>\n",
              "      <th>3</th>\n",
              "      <td>sms</td>\n",
              "      <td>0</td>\n",
              "      <td>2012-05-08 23:03:04.0</td>\n",
              "      <td>0</td>\n",
              "      <td>8ab8b9ed6989f61</td>\n",
              "      <td>e09e736e46c5c3d</td>\n",
              "      <td>19e2e</td>\n",
              "      <td>19e2e</td>\n",
              "      <td>+cNeJzsTp3</td>\n",
              "      <td>+cNeJzsTp3</td>\n",
              "    </tr>\n",
              "    <tr>\n",
              "      <th>4</th>\n",
              "      <td>Voice</td>\n",
              "      <td>22</td>\n",
              "      <td>2012-05-08 23:03:16.0</td>\n",
              "      <td>4</td>\n",
              "      <td>52662a62b199334</td>\n",
              "      <td>2186273faab4602</td>\n",
              "      <td>19e2e</td>\n",
              "      <td>19e2e</td>\n",
              "      <td>/eeMklgyJA</td>\n",
              "      <td>/eeMklgyJA</td>\n",
              "    </tr>\n",
              "  </tbody>\n",
              "</table>\n",
              "</div>"
            ],
            "text/plain": [
              "  PRODUCT  VALUE              DATE_TIME  ... COUNTRY_B      CELLID     SIET_ID\n",
              "0   Voice     61  2012-05-08 23:01:28.0  ...     19e2e  +38u2u/rfx  +38u2u/rfx\n",
              "1     sms      0  2012-05-08 23:01:31.0  ...     19e2e  +Fs4mTvdKx  +Fs4mTvdKx\n",
              "2   Voice     10  2012-05-08 23:02:59.0  ...     19e2e  +ZaaZozy/+  +ZaaZozy/+\n",
              "3     sms      0  2012-05-08 23:03:04.0  ...     19e2e  +cNeJzsTp3  +cNeJzsTp3\n",
              "4   Voice     22  2012-05-08 23:03:16.0  ...     19e2e  /eeMklgyJA  /eeMklgyJA\n",
              "\n",
              "[5 rows x 10 columns]"
            ]
          },
          "metadata": {
            "tags": []
          },
          "execution_count": 5
        }
      ]
    },
    {
      "cell_type": "code",
      "metadata": {
        "id": "sPK0cSKGAs2p",
        "colab_type": "code",
        "colab": {
          "base_uri": "https://localhost:8080/",
          "height": 204
        },
        "outputId": "a92d88c7-3f9d-439f-b03d-6f29800a8d8b"
      },
      "source": [
        "#importing cells_geo.csv\n",
        "#seperating using the delimeter (;)\n",
        "df5 = pd.read_csv('/content/cells_geo.csv',sep=';') \n",
        "df5.head()\n",
        "\n"
      ],
      "execution_count": null,
      "outputs": [
        {
          "output_type": "execute_result",
          "data": {
            "text/html": [
              "<div>\n",
              "<style scoped>\n",
              "    .dataframe tbody tr th:only-of-type {\n",
              "        vertical-align: middle;\n",
              "    }\n",
              "\n",
              "    .dataframe tbody tr th {\n",
              "        vertical-align: top;\n",
              "    }\n",
              "\n",
              "    .dataframe thead th {\n",
              "        text-align: right;\n",
              "    }\n",
              "</style>\n",
              "<table border=\"1\" class=\"dataframe\">\n",
              "  <thead>\n",
              "    <tr style=\"text-align: right;\">\n",
              "      <th></th>\n",
              "      <th>Unnamed: 0</th>\n",
              "      <th>VILLES</th>\n",
              "      <th>STATUS</th>\n",
              "      <th>LOCALISATION</th>\n",
              "      <th>DECOUPZONE</th>\n",
              "      <th>ZONENAME</th>\n",
              "      <th>LONGITUDE</th>\n",
              "      <th>LATITUDE</th>\n",
              "      <th>REGION</th>\n",
              "      <th>AREA</th>\n",
              "      <th>CELL_ID</th>\n",
              "      <th>SITE_CODE</th>\n",
              "    </tr>\n",
              "  </thead>\n",
              "  <tbody>\n",
              "    <tr>\n",
              "      <th>0</th>\n",
              "      <td>0</td>\n",
              "      <td>ADJAME</td>\n",
              "      <td>In Service</td>\n",
              "      <td>ABIDJAN</td>\n",
              "      <td>\"Abidjan_EST</td>\n",
              "      <td>AGBANNEW</td>\n",
              "      <td>-4.000667</td>\n",
              "      <td>5.368194</td>\n",
              "      <td>LAGUNE</td>\n",
              "      <td>NaN</td>\n",
              "      <td>fbb2e75af3</td>\n",
              "      <td>0bb492ef17</td>\n",
              "    </tr>\n",
              "    <tr>\n",
              "      <th>1</th>\n",
              "      <td>1</td>\n",
              "      <td>ADJAME</td>\n",
              "      <td>In Service</td>\n",
              "      <td>ABIDJAN</td>\n",
              "      <td>\"Abidjan_EST</td>\n",
              "      <td>AGBANNEW</td>\n",
              "      <td>-4.000667</td>\n",
              "      <td>5.368194</td>\n",
              "      <td>LAGUNE</td>\n",
              "      <td>NaN</td>\n",
              "      <td>1502501d78</td>\n",
              "      <td>0bb492ef17</td>\n",
              "    </tr>\n",
              "    <tr>\n",
              "      <th>2</th>\n",
              "      <td>2</td>\n",
              "      <td>ADJAME</td>\n",
              "      <td>In Service</td>\n",
              "      <td>ABIDJAN</td>\n",
              "      <td>\"Abidjan_EST</td>\n",
              "      <td>AGBANNEW</td>\n",
              "      <td>-4.000667</td>\n",
              "      <td>5.368194</td>\n",
              "      <td>LAGUNE</td>\n",
              "      <td>NaN</td>\n",
              "      <td>0c2e182a0c</td>\n",
              "      <td>0bb492ef17</td>\n",
              "    </tr>\n",
              "    <tr>\n",
              "      <th>3</th>\n",
              "      <td>3</td>\n",
              "      <td>ASSINIE</td>\n",
              "      <td>In Service</td>\n",
              "      <td>INTERIEUR</td>\n",
              "      <td>Grand-EST</td>\n",
              "      <td>ASSINIE\"</td>\n",
              "      <td>-3.488467</td>\n",
              "      <td>5.158761</td>\n",
              "      <td>SUD COMOE</td>\n",
              "      <td>NaN</td>\n",
              "      <td>69bdfc69fd</td>\n",
              "      <td>8a1e6ce31f</td>\n",
              "    </tr>\n",
              "    <tr>\n",
              "      <th>4</th>\n",
              "      <td>4</td>\n",
              "      <td>ASSINIE</td>\n",
              "      <td>In Service</td>\n",
              "      <td>INTERIEUR</td>\n",
              "      <td>Grand-EST</td>\n",
              "      <td>ASSINIE\"</td>\n",
              "      <td>-3.488467</td>\n",
              "      <td>5.158761</td>\n",
              "      <td>SUD COMOE</td>\n",
              "      <td>NaN</td>\n",
              "      <td>7a1029d2ab</td>\n",
              "      <td>8a1e6ce31f</td>\n",
              "    </tr>\n",
              "  </tbody>\n",
              "</table>\n",
              "</div>"
            ],
            "text/plain": [
              "   Unnamed: 0   VILLES      STATUS  ... AREA     CELL_ID   SITE_CODE\n",
              "0           0   ADJAME  In Service  ...  NaN  fbb2e75af3  0bb492ef17\n",
              "1           1   ADJAME  In Service  ...  NaN  1502501d78  0bb492ef17\n",
              "2           2   ADJAME  In Service  ...  NaN  0c2e182a0c  0bb492ef17\n",
              "3           3  ASSINIE  In Service  ...  NaN  69bdfc69fd  8a1e6ce31f\n",
              "4           4  ASSINIE  In Service  ...  NaN  7a1029d2ab  8a1e6ce31f\n",
              "\n",
              "[5 rows x 12 columns]"
            ]
          },
          "metadata": {
            "tags": []
          },
          "execution_count": 6
        }
      ]
    },
    {
      "cell_type": "code",
      "metadata": {
        "id": "1tpeAXQhBZ-_",
        "colab_type": "code",
        "colab": {
          "base_uri": "https://localhost:8080/",
          "height": 390
        },
        "outputId": "827f3fc3-06ef-4ebd-8423-455153631960"
      },
      "source": [
        "#importing cells_geo_description.xls\n",
        "df6 = pd.read_excel('/content/cells_geo_description.xlsx') \n",
        "df6"
      ],
      "execution_count": null,
      "outputs": [
        {
          "output_type": "execute_result",
          "data": {
            "text/html": [
              "<div>\n",
              "<style scoped>\n",
              "    .dataframe tbody tr th:only-of-type {\n",
              "        vertical-align: middle;\n",
              "    }\n",
              "\n",
              "    .dataframe tbody tr th {\n",
              "        vertical-align: top;\n",
              "    }\n",
              "\n",
              "    .dataframe thead th {\n",
              "        text-align: right;\n",
              "    }\n",
              "</style>\n",
              "<table border=\"1\" class=\"dataframe\">\n",
              "  <thead>\n",
              "    <tr style=\"text-align: right;\">\n",
              "      <th></th>\n",
              "      <th>Column name</th>\n",
              "      <th>Description</th>\n",
              "      <th>Format</th>\n",
              "    </tr>\n",
              "  </thead>\n",
              "  <tbody>\n",
              "    <tr>\n",
              "      <th>0</th>\n",
              "      <td>VILLES</td>\n",
              "      <td>City</td>\n",
              "      <td>String</td>\n",
              "    </tr>\n",
              "    <tr>\n",
              "      <th>1</th>\n",
              "      <td>STATUS</td>\n",
              "      <td>In Service or not</td>\n",
              "      <td>String</td>\n",
              "    </tr>\n",
              "    <tr>\n",
              "      <th>2</th>\n",
              "      <td>LOCALISATION</td>\n",
              "      <td>in ABIDJAN or not</td>\n",
              "      <td>String</td>\n",
              "    </tr>\n",
              "    <tr>\n",
              "      <th>3</th>\n",
              "      <td>DECOUPZONE</td>\n",
              "      <td>Geographical Zone</td>\n",
              "      <td>String</td>\n",
              "    </tr>\n",
              "    <tr>\n",
              "      <th>4</th>\n",
              "      <td>ZONENAME</td>\n",
              "      <td>Name of Zone</td>\n",
              "      <td>String</td>\n",
              "    </tr>\n",
              "    <tr>\n",
              "      <th>5</th>\n",
              "      <td>LONGITUDE</td>\n",
              "      <td>Longitude</td>\n",
              "      <td>Float</td>\n",
              "    </tr>\n",
              "    <tr>\n",
              "      <th>6</th>\n",
              "      <td>LATITUDE</td>\n",
              "      <td>Latitude</td>\n",
              "      <td>Float</td>\n",
              "    </tr>\n",
              "    <tr>\n",
              "      <th>7</th>\n",
              "      <td>REGION</td>\n",
              "      <td>Region</td>\n",
              "      <td>String</td>\n",
              "    </tr>\n",
              "    <tr>\n",
              "      <th>8</th>\n",
              "      <td>AREA</td>\n",
              "      <td>Area</td>\n",
              "      <td>String</td>\n",
              "    </tr>\n",
              "    <tr>\n",
              "      <th>9</th>\n",
              "      <td>CELL_ID</td>\n",
              "      <td>ID of the cell</td>\n",
              "      <td>String</td>\n",
              "    </tr>\n",
              "    <tr>\n",
              "      <th>10</th>\n",
              "      <td>SITE_CODE</td>\n",
              "      <td>Site (there are several cells per site, severa...</td>\n",
              "      <td>String</td>\n",
              "    </tr>\n",
              "  </tbody>\n",
              "</table>\n",
              "</div>"
            ],
            "text/plain": [
              "     Column name                                        Description  Format\n",
              "0         VILLES                                               City  String\n",
              "1         STATUS                                  In Service or not  String\n",
              "2   LOCALISATION                                  in ABIDJAN or not  String\n",
              "3     DECOUPZONE                                  Geographical Zone  String\n",
              "4       ZONENAME                                       Name of Zone  String\n",
              "5      LONGITUDE                                          Longitude   Float\n",
              "6       LATITUDE                                           Latitude   Float\n",
              "7         REGION                                             Region  String\n",
              "8           AREA                                               Area  String\n",
              "9        CELL_ID                                     ID of the cell  String\n",
              "10     SITE_CODE  Site (there are several cells per site, severa...  String"
            ]
          },
          "metadata": {
            "tags": []
          },
          "execution_count": 7
        }
      ]
    },
    {
      "cell_type": "markdown",
      "metadata": {
        "id": "Oa4JCFH1IXSY",
        "colab_type": "text"
      },
      "source": [
        "# **3. Data Understanding and Exploration**"
      ]
    },
    {
      "cell_type": "code",
      "metadata": {
        "id": "GTc3FwyTIaAL",
        "colab_type": "code",
        "colab": {
          "base_uri": "https://localhost:8080/",
          "height": 204
        },
        "outputId": "9f590b8d-faeb-4819-833b-ba32b2466248"
      },
      "source": [
        "#displaying different data types of the columns\n",
        "df2.dtypes"
      ],
      "execution_count": 44,
      "outputs": [
        {
          "output_type": "execute_result",
          "data": {
            "text/plain": [
              "PRODUCT            object\n",
              "VALUE               int64\n",
              "TIME               object\n",
              "CELL_ON_SITE       object\n",
              "DW_A_NUMBER_INT    object\n",
              "DW_B_NUMBER_INT    object\n",
              "COUNTRY_A          object\n",
              "COUNTRY_B          object\n",
              "CELL_ID            object\n",
              "SITE_ID            object\n",
              "dtype: object"
            ]
          },
          "metadata": {
            "tags": []
          },
          "execution_count": 44
        }
      ]
    },
    {
      "cell_type": "code",
      "metadata": {
        "id": "7Rb8kME0QCfW",
        "colab_type": "code",
        "colab": {
          "base_uri": "https://localhost:8080/",
          "height": 204
        },
        "outputId": "c74141e8-9d3c-4e6c-fabc-88923e3e8925"
      },
      "source": [
        "df3.dtypes"
      ],
      "execution_count": 45,
      "outputs": [
        {
          "output_type": "execute_result",
          "data": {
            "text/plain": [
              "PRODUCT            object\n",
              "VALUE               int64\n",
              "DATE_TIME          object\n",
              "CELL_ON_SITE       object\n",
              "DW_A_NUMBER_INT    object\n",
              "DW_B_NUMBER_INT    object\n",
              "COUNTRY_A          object\n",
              "COUNTRY_B          object\n",
              "CELL_ID            object\n",
              "SITE_ID            object\n",
              "dtype: object"
            ]
          },
          "metadata": {
            "tags": []
          },
          "execution_count": 45
        }
      ]
    },
    {
      "cell_type": "code",
      "metadata": {
        "id": "V1DVxs--QLTJ",
        "colab_type": "code",
        "colab": {
          "base_uri": "https://localhost:8080/",
          "height": 204
        },
        "outputId": "44c25eef-3db9-4f3d-9374-df4a8665b86a"
      },
      "source": [
        "df4.dtypes"
      ],
      "execution_count": 46,
      "outputs": [
        {
          "output_type": "execute_result",
          "data": {
            "text/plain": [
              "PRODUCT            object\n",
              "VALUE               int64\n",
              "DATE_TIME          object\n",
              "CELL_ON_SITE       object\n",
              "DW_A_NUMBER_INT    object\n",
              "DW_B_NUMBER_INT    object\n",
              "COUNTRY_A          object\n",
              "COUNTRY_B          object\n",
              "CELL_ID            object\n",
              "SITE_ID            object\n",
              "dtype: object"
            ]
          },
          "metadata": {
            "tags": []
          },
          "execution_count": 46
        }
      ]
    },
    {
      "cell_type": "code",
      "metadata": {
        "id": "NWDzBwy9QRfI",
        "colab_type": "code",
        "colab": {
          "base_uri": "https://localhost:8080/",
          "height": 238
        },
        "outputId": "0f962e54-a098-4a8f-b3f2-ec80c04c8bb2"
      },
      "source": [
        "df5.dtypes"
      ],
      "execution_count": 47,
      "outputs": [
        {
          "output_type": "execute_result",
          "data": {
            "text/plain": [
              "Unnamed: 0        int64\n",
              "CITY             object\n",
              "STATUS           object\n",
              "LOCALISATION     object\n",
              "DECOUPZONE       object\n",
              "ZONENAME         object\n",
              "LONGITUDE       float64\n",
              "LATITUDE        float64\n",
              "REGION           object\n",
              "AREA             object\n",
              "CELL_ID          object\n",
              "SITE_ID          object\n",
              "dtype: object"
            ]
          },
          "metadata": {
            "tags": []
          },
          "execution_count": 47
        }
      ]
    },
    {
      "cell_type": "code",
      "metadata": {
        "id": "j_lFApkgIhsP",
        "colab_type": "code",
        "colab": {
          "base_uri": "https://localhost:8080/",
          "height": 204
        },
        "outputId": "9c054a06-7cb6-4603-d458-8a729da22db4"
      },
      "source": [
        "#identifying the precence of null values in the  datasets\n",
        "df2.isna().sum()"
      ],
      "execution_count": 48,
      "outputs": [
        {
          "output_type": "execute_result",
          "data": {
            "text/plain": [
              "PRODUCT              0\n",
              "VALUE                0\n",
              "TIME                 0\n",
              "CELL_ON_SITE         0\n",
              "DW_A_NUMBER_INT      0\n",
              "DW_B_NUMBER_INT      0\n",
              "COUNTRY_A            0\n",
              "COUNTRY_B            0\n",
              "CELL_ID              0\n",
              "SITE_ID            716\n",
              "dtype: int64"
            ]
          },
          "metadata": {
            "tags": []
          },
          "execution_count": 48
        }
      ]
    },
    {
      "cell_type": "code",
      "metadata": {
        "id": "mneSM2o6QZrw",
        "colab_type": "code",
        "colab": {
          "base_uri": "https://localhost:8080/",
          "height": 204
        },
        "outputId": "0a0c8533-5870-4891-96ef-b48a1ff0f3fb"
      },
      "source": [
        "df3.isna().sum()"
      ],
      "execution_count": 49,
      "outputs": [
        {
          "output_type": "execute_result",
          "data": {
            "text/plain": [
              "PRODUCT              0\n",
              "VALUE                0\n",
              "DATE_TIME            0\n",
              "CELL_ON_SITE         0\n",
              "DW_A_NUMBER_INT      0\n",
              "DW_B_NUMBER_INT      0\n",
              "COUNTRY_A            0\n",
              "COUNTRY_B            0\n",
              "CELL_ID              0\n",
              "SITE_ID            676\n",
              "dtype: int64"
            ]
          },
          "metadata": {
            "tags": []
          },
          "execution_count": 49
        }
      ]
    },
    {
      "cell_type": "code",
      "metadata": {
        "id": "jFn7YhehQf18",
        "colab_type": "code",
        "colab": {
          "base_uri": "https://localhost:8080/",
          "height": 204
        },
        "outputId": "677b1f1d-c67f-4538-ef95-eb80a6fe692f"
      },
      "source": [
        "df4.isna().sum()"
      ],
      "execution_count": 50,
      "outputs": [
        {
          "output_type": "execute_result",
          "data": {
            "text/plain": [
              "PRODUCT              0\n",
              "VALUE                0\n",
              "DATE_TIME            0\n",
              "CELL_ON_SITE         0\n",
              "DW_A_NUMBER_INT      0\n",
              "DW_B_NUMBER_INT      0\n",
              "COUNTRY_A            0\n",
              "COUNTRY_B            0\n",
              "CELL_ID              0\n",
              "SITE_ID            605\n",
              "dtype: int64"
            ]
          },
          "metadata": {
            "tags": []
          },
          "execution_count": 50
        }
      ]
    },
    {
      "cell_type": "code",
      "metadata": {
        "id": "rvGFy7ZLQje6",
        "colab_type": "code",
        "colab": {
          "base_uri": "https://localhost:8080/",
          "height": 238
        },
        "outputId": "e46609df-83f7-41f2-c15e-e02fc0f4f96a"
      },
      "source": [
        "df5.isna().sum()"
      ],
      "execution_count": 51,
      "outputs": [
        {
          "output_type": "execute_result",
          "data": {
            "text/plain": [
              "Unnamed: 0       0\n",
              "CITY             0\n",
              "STATUS          67\n",
              "LOCALISATION     0\n",
              "DECOUPZONE       0\n",
              "ZONENAME         6\n",
              "LONGITUDE        0\n",
              "LATITUDE         0\n",
              "REGION           0\n",
              "AREA            23\n",
              "CELL_ID          0\n",
              "SITE_ID          0\n",
              "dtype: int64"
            ]
          },
          "metadata": {
            "tags": []
          },
          "execution_count": 51
        }
      ]
    },
    {
      "cell_type": "code",
      "metadata": {
        "id": "CkAZAWQVIzHq",
        "colab_type": "code",
        "colab": {
          "base_uri": "https://localhost:8080/",
          "height": 34
        },
        "outputId": "0268a5c3-cda9-4933-e9ce-71b7d482d868"
      },
      "source": [
        "#identifying the precence of duplicates values in the dataset\n",
        "df2.duplicated().sum()"
      ],
      "execution_count": 52,
      "outputs": [
        {
          "output_type": "execute_result",
          "data": {
            "text/plain": [
              "82"
            ]
          },
          "metadata": {
            "tags": []
          },
          "execution_count": 52
        }
      ]
    },
    {
      "cell_type": "code",
      "metadata": {
        "id": "ZWqfMTKRQyMa",
        "colab_type": "code",
        "colab": {
          "base_uri": "https://localhost:8080/",
          "height": 34
        },
        "outputId": "14a0c3f7-3043-49ca-9b7e-d736fb37ae25"
      },
      "source": [
        "df3.duplicated().sum()"
      ],
      "execution_count": 53,
      "outputs": [
        {
          "output_type": "execute_result",
          "data": {
            "text/plain": [
              "78"
            ]
          },
          "metadata": {
            "tags": []
          },
          "execution_count": 53
        }
      ]
    },
    {
      "cell_type": "code",
      "metadata": {
        "id": "8Lxd0e0AQ45E",
        "colab_type": "code",
        "colab": {
          "base_uri": "https://localhost:8080/",
          "height": 34
        },
        "outputId": "a4ad9230-e8e7-4929-87c9-424d8718eaad"
      },
      "source": [
        "df4.duplicated().sum()"
      ],
      "execution_count": 54,
      "outputs": [
        {
          "output_type": "execute_result",
          "data": {
            "text/plain": [
              "93"
            ]
          },
          "metadata": {
            "tags": []
          },
          "execution_count": 54
        }
      ]
    },
    {
      "cell_type": "code",
      "metadata": {
        "id": "FF2K1RbWQ-a8",
        "colab_type": "code",
        "colab": {
          "base_uri": "https://localhost:8080/",
          "height": 34
        },
        "outputId": "60af655c-b4bc-4d6f-c506-0b143ea5296f"
      },
      "source": [
        "df5.duplicated().sum()"
      ],
      "execution_count": 55,
      "outputs": [
        {
          "output_type": "execute_result",
          "data": {
            "text/plain": [
              "0"
            ]
          },
          "metadata": {
            "tags": []
          },
          "execution_count": 55
        }
      ]
    },
    {
      "cell_type": "markdown",
      "metadata": {
        "id": "xgKSgqvNE9-e",
        "colab_type": "text"
      },
      "source": [
        "# **4. Data Preparation**"
      ]
    },
    {
      "cell_type": "markdown",
      "metadata": {
        "id": "1WcM2leIyXKC",
        "colab_type": "text"
      },
      "source": [
        "**4.1 Renaming columns**"
      ]
    },
    {
      "cell_type": "code",
      "metadata": {
        "id": "PIhBkexcH1Eu",
        "colab_type": "code",
        "colab": {
          "base_uri": "https://localhost:8080/",
          "height": 111
        },
        "outputId": "fa56eae4-1f43-4e61-f9ea-77718f07fa70"
      },
      "source": [
        "#Renaming columns in Telcom_dataset.csv\n",
        "#Renaming the column PRODUTC to PRODUCT\n",
        "df2.rename(columns = {'PRODUTC':'PRODUCT'}, inplace = True)\n",
        "df2\n",
        "#Renaming the column DATETIME to TIME\n",
        "df2.rename(columns = {'DATE_TIME':'TIME'}, inplace = True)\n",
        "df2.head(2)"
      ],
      "execution_count": null,
      "outputs": [
        {
          "output_type": "execute_result",
          "data": {
            "text/html": [
              "<div>\n",
              "<style scoped>\n",
              "    .dataframe tbody tr th:only-of-type {\n",
              "        vertical-align: middle;\n",
              "    }\n",
              "\n",
              "    .dataframe tbody tr th {\n",
              "        vertical-align: top;\n",
              "    }\n",
              "\n",
              "    .dataframe thead th {\n",
              "        text-align: right;\n",
              "    }\n",
              "</style>\n",
              "<table border=\"1\" class=\"dataframe\">\n",
              "  <thead>\n",
              "    <tr style=\"text-align: right;\">\n",
              "      <th></th>\n",
              "      <th>PRODUCT</th>\n",
              "      <th>VALUE</th>\n",
              "      <th>TIME</th>\n",
              "      <th>CELL_ON_SITE</th>\n",
              "      <th>DW_A_NUMBER_INT</th>\n",
              "      <th>DW_B_NUMBER_INT</th>\n",
              "      <th>COUNTRY_A</th>\n",
              "      <th>COUNTRY_B</th>\n",
              "      <th>CELL_ID</th>\n",
              "      <th>SITE_ID</th>\n",
              "    </tr>\n",
              "  </thead>\n",
              "  <tbody>\n",
              "    <tr>\n",
              "      <th>0</th>\n",
              "      <td>Voice</td>\n",
              "      <td>0</td>\n",
              "      <td>04:37.0</td>\n",
              "      <td>1</td>\n",
              "      <td>49fae048b547780</td>\n",
              "      <td>1a49f8b0ded9de6</td>\n",
              "      <td>19e2e</td>\n",
              "      <td>19e2e</td>\n",
              "      <td>/TJNe+Mmtu</td>\n",
              "      <td>/TJNe+Mmtu</td>\n",
              "    </tr>\n",
              "    <tr>\n",
              "      <th>1</th>\n",
              "      <td>sms</td>\n",
              "      <td>0</td>\n",
              "      <td>05:25.0</td>\n",
              "      <td>0</td>\n",
              "      <td>7a54a6eaee19e65</td>\n",
              "      <td>93343ba6e41af95</td>\n",
              "      <td>19e2e</td>\n",
              "      <td>19e2e</td>\n",
              "      <td>/+cKZKIp41</td>\n",
              "      <td>/+cKZKIp41</td>\n",
              "    </tr>\n",
              "  </tbody>\n",
              "</table>\n",
              "</div>"
            ],
            "text/plain": [
              "  PRODUCT  VALUE     TIME  ... COUNTRY_B     CELL_ID     SITE_ID\n",
              "0   Voice      0  04:37.0  ...     19e2e  /TJNe+Mmtu  /TJNe+Mmtu\n",
              "1     sms      0  05:25.0  ...     19e2e  /+cKZKIp41  /+cKZKIp41\n",
              "\n",
              "[2 rows x 10 columns]"
            ]
          },
          "metadata": {
            "tags": []
          },
          "execution_count": 9
        }
      ]
    },
    {
      "cell_type": "code",
      "metadata": {
        "id": "Ks0vRWoeO5tQ",
        "colab_type": "code",
        "colab": {
          "base_uri": "https://localhost:8080/",
          "height": 142
        },
        "outputId": "6b94ae42-7680-4db1-cb6e-be0286b11488"
      },
      "source": [
        "#Renaming columns in Telcom_dataset2.csv\n",
        "#Renaming the column DW_A_NUMBER to DW_A_NUMBER_INT\n",
        "df3.rename(columns = {'DW_A_NUMBER':'DW_A_NUMBER_INT'}, inplace = True)\n",
        "df3\n",
        "#Renaming the column DW_B_NUMBER to DW_B_NUMBER_INT\n",
        "df3.rename(columns = {'DW_B_NUMBER':'DW_B_NUMBER_INT'}, inplace = True)\n",
        "df3.head(3)"
      ],
      "execution_count": null,
      "outputs": [
        {
          "output_type": "execute_result",
          "data": {
            "text/html": [
              "<div>\n",
              "<style scoped>\n",
              "    .dataframe tbody tr th:only-of-type {\n",
              "        vertical-align: middle;\n",
              "    }\n",
              "\n",
              "    .dataframe tbody tr th {\n",
              "        vertical-align: top;\n",
              "    }\n",
              "\n",
              "    .dataframe thead th {\n",
              "        text-align: right;\n",
              "    }\n",
              "</style>\n",
              "<table border=\"1\" class=\"dataframe\">\n",
              "  <thead>\n",
              "    <tr style=\"text-align: right;\">\n",
              "      <th></th>\n",
              "      <th>PRODUCT</th>\n",
              "      <th>VALUE</th>\n",
              "      <th>DATE_TIME</th>\n",
              "      <th>CELL_ON_SITE</th>\n",
              "      <th>DW_A_NUMBER_INT</th>\n",
              "      <th>DW_B_NUMBER_INT</th>\n",
              "      <th>COUNTRY_A</th>\n",
              "      <th>COUNTRY_B</th>\n",
              "      <th>CELL_ID</th>\n",
              "      <th>SITE_ID</th>\n",
              "    </tr>\n",
              "  </thead>\n",
              "  <tbody>\n",
              "    <tr>\n",
              "      <th>0</th>\n",
              "      <td>sms</td>\n",
              "      <td>0</td>\n",
              "      <td>2012-05-07 23:02:06.0</td>\n",
              "      <td>2</td>\n",
              "      <td>32255675c3b6fe3</td>\n",
              "      <td>1aa7ae01386e9fb</td>\n",
              "      <td>19e2e</td>\n",
              "      <td>19e2e</td>\n",
              "      <td>+854AcBQT2</td>\n",
              "      <td>+854AcBQT2</td>\n",
              "    </tr>\n",
              "    <tr>\n",
              "      <th>1</th>\n",
              "      <td>Voice</td>\n",
              "      <td>0</td>\n",
              "      <td>2012-05-07 23:03:44.0</td>\n",
              "      <td>1</td>\n",
              "      <td>ff16d6ac74c1c64</td>\n",
              "      <td>87d87309c15a8c9</td>\n",
              "      <td>19e2e</td>\n",
              "      <td>19e2e</td>\n",
              "      <td>+854AcBQT2</td>\n",
              "      <td>+854AcBQT2</td>\n",
              "    </tr>\n",
              "    <tr>\n",
              "      <th>2</th>\n",
              "      <td>sms</td>\n",
              "      <td>0</td>\n",
              "      <td>2012-05-07 23:04:06.0</td>\n",
              "      <td>0</td>\n",
              "      <td>98d9f2fb5ff624b</td>\n",
              "      <td>93343ba6e41af95</td>\n",
              "      <td>19e2e</td>\n",
              "      <td>19e2e</td>\n",
              "      <td>+laSrk7g6q</td>\n",
              "      <td>+laSrk7g6q</td>\n",
              "    </tr>\n",
              "  </tbody>\n",
              "</table>\n",
              "</div>"
            ],
            "text/plain": [
              "  PRODUCT  VALUE              DATE_TIME  ... COUNTRY_B     CELL_ID     SITE_ID\n",
              "0     sms      0  2012-05-07 23:02:06.0  ...     19e2e  +854AcBQT2  +854AcBQT2\n",
              "1   Voice      0  2012-05-07 23:03:44.0  ...     19e2e  +854AcBQT2  +854AcBQT2\n",
              "2     sms      0  2012-05-07 23:04:06.0  ...     19e2e  +laSrk7g6q  +laSrk7g6q\n",
              "\n",
              "[3 rows x 10 columns]"
            ]
          },
          "metadata": {
            "tags": []
          },
          "execution_count": 12
        }
      ]
    },
    {
      "cell_type": "code",
      "metadata": {
        "id": "lNYc0h_dQ1BF",
        "colab_type": "code",
        "colab": {
          "base_uri": "https://localhost:8080/",
          "height": 142
        },
        "outputId": "a8f398b0-c69b-4cb4-f4d5-f421969ba77d"
      },
      "source": [
        "#Renaming columns in Telcom_dataset3.csv\n",
        "#Renaming the column SIET_ID to SITE_ID\n",
        "df4.rename(columns = {'SIET_ID':'SITE_ID'}, inplace = True)\n",
        "df4.head(3)\n",
        "#Renaming the column CELLID to CELL_ID\n",
        "df4.rename(columns = {'CELLID':'CELL_ID'}, inplace = True)\n",
        "df4.head(3)"
      ],
      "execution_count": null,
      "outputs": [
        {
          "output_type": "execute_result",
          "data": {
            "text/html": [
              "<div>\n",
              "<style scoped>\n",
              "    .dataframe tbody tr th:only-of-type {\n",
              "        vertical-align: middle;\n",
              "    }\n",
              "\n",
              "    .dataframe tbody tr th {\n",
              "        vertical-align: top;\n",
              "    }\n",
              "\n",
              "    .dataframe thead th {\n",
              "        text-align: right;\n",
              "    }\n",
              "</style>\n",
              "<table border=\"1\" class=\"dataframe\">\n",
              "  <thead>\n",
              "    <tr style=\"text-align: right;\">\n",
              "      <th></th>\n",
              "      <th>PRODUCT</th>\n",
              "      <th>VALUE</th>\n",
              "      <th>DATE_TIME</th>\n",
              "      <th>CELL_ON_SITE</th>\n",
              "      <th>DW_A_NUMBER_INT</th>\n",
              "      <th>DW_B_NUMBER_INT</th>\n",
              "      <th>COUNTRY_A</th>\n",
              "      <th>COUNTRY_B</th>\n",
              "      <th>CELL_ID</th>\n",
              "      <th>SITE_ID</th>\n",
              "    </tr>\n",
              "  </thead>\n",
              "  <tbody>\n",
              "    <tr>\n",
              "      <th>0</th>\n",
              "      <td>Voice</td>\n",
              "      <td>61</td>\n",
              "      <td>2012-05-08 23:01:28.0</td>\n",
              "      <td>2</td>\n",
              "      <td>966f68353622feb</td>\n",
              "      <td>ffd53a3bb2db6f1</td>\n",
              "      <td>19e2e</td>\n",
              "      <td>19e2e</td>\n",
              "      <td>+38u2u/rfx</td>\n",
              "      <td>+38u2u/rfx</td>\n",
              "    </tr>\n",
              "    <tr>\n",
              "      <th>1</th>\n",
              "      <td>sms</td>\n",
              "      <td>0</td>\n",
              "      <td>2012-05-08 23:01:31.0</td>\n",
              "      <td>1</td>\n",
              "      <td>a0a597384c612d7</td>\n",
              "      <td>cf3b218f1dde792</td>\n",
              "      <td>19e2e</td>\n",
              "      <td>19e2e</td>\n",
              "      <td>+Fs4mTvdKx</td>\n",
              "      <td>+Fs4mTvdKx</td>\n",
              "    </tr>\n",
              "    <tr>\n",
              "      <th>2</th>\n",
              "      <td>Voice</td>\n",
              "      <td>10</td>\n",
              "      <td>2012-05-08 23:02:59.0</td>\n",
              "      <td>1</td>\n",
              "      <td>5441a9a58c97132</td>\n",
              "      <td>52f8b299515b9b7</td>\n",
              "      <td>19e2e</td>\n",
              "      <td>19e2e</td>\n",
              "      <td>+ZaaZozy/+</td>\n",
              "      <td>+ZaaZozy/+</td>\n",
              "    </tr>\n",
              "  </tbody>\n",
              "</table>\n",
              "</div>"
            ],
            "text/plain": [
              "  PRODUCT  VALUE              DATE_TIME  ... COUNTRY_B     CELL_ID     SITE_ID\n",
              "0   Voice     61  2012-05-08 23:01:28.0  ...     19e2e  +38u2u/rfx  +38u2u/rfx\n",
              "1     sms      0  2012-05-08 23:01:31.0  ...     19e2e  +Fs4mTvdKx  +Fs4mTvdKx\n",
              "2   Voice     10  2012-05-08 23:02:59.0  ...     19e2e  +ZaaZozy/+  +ZaaZozy/+\n",
              "\n",
              "[3 rows x 10 columns]"
            ]
          },
          "metadata": {
            "tags": []
          },
          "execution_count": 11
        }
      ]
    },
    {
      "cell_type": "code",
      "metadata": {
        "id": "zlhc2tBjoV0z",
        "colab_type": "code",
        "colab": {
          "base_uri": "https://localhost:8080/",
          "height": 142
        },
        "outputId": "d5ff6cde-9741-427c-9735-f2de916427a6"
      },
      "source": [
        "#renaming the SITE_CODE to SITE_ID the cells_geo.csv dataset\n",
        "df5.rename(columns = {'SITE_CODE':'SITE_ID'}, inplace = True)\n",
        "\n",
        "#renaming the VILLES to CITY the cells_geo.csv dataset\n",
        "df5.rename(columns = {'VILLES':'CITY'}, inplace = True)\n",
        "df5.head(3)"
      ],
      "execution_count": null,
      "outputs": [
        {
          "output_type": "execute_result",
          "data": {
            "text/html": [
              "<div>\n",
              "<style scoped>\n",
              "    .dataframe tbody tr th:only-of-type {\n",
              "        vertical-align: middle;\n",
              "    }\n",
              "\n",
              "    .dataframe tbody tr th {\n",
              "        vertical-align: top;\n",
              "    }\n",
              "\n",
              "    .dataframe thead th {\n",
              "        text-align: right;\n",
              "    }\n",
              "</style>\n",
              "<table border=\"1\" class=\"dataframe\">\n",
              "  <thead>\n",
              "    <tr style=\"text-align: right;\">\n",
              "      <th></th>\n",
              "      <th>Unnamed: 0</th>\n",
              "      <th>CITY</th>\n",
              "      <th>STATUS</th>\n",
              "      <th>LOCALISATION</th>\n",
              "      <th>DECOUPZONE</th>\n",
              "      <th>ZONENAME</th>\n",
              "      <th>LONGITUDE</th>\n",
              "      <th>LATITUDE</th>\n",
              "      <th>REGION</th>\n",
              "      <th>AREA</th>\n",
              "      <th>CELL_ID</th>\n",
              "      <th>SITE_ID</th>\n",
              "    </tr>\n",
              "  </thead>\n",
              "  <tbody>\n",
              "    <tr>\n",
              "      <th>0</th>\n",
              "      <td>0</td>\n",
              "      <td>ADJAME</td>\n",
              "      <td>In Service</td>\n",
              "      <td>ABIDJAN</td>\n",
              "      <td>\"Abidjan_EST</td>\n",
              "      <td>AGBANNEW</td>\n",
              "      <td>-4.000667</td>\n",
              "      <td>5.368194</td>\n",
              "      <td>LAGUNE</td>\n",
              "      <td>NaN</td>\n",
              "      <td>fbb2e75af3</td>\n",
              "      <td>0bb492ef17</td>\n",
              "    </tr>\n",
              "    <tr>\n",
              "      <th>1</th>\n",
              "      <td>1</td>\n",
              "      <td>ADJAME</td>\n",
              "      <td>In Service</td>\n",
              "      <td>ABIDJAN</td>\n",
              "      <td>\"Abidjan_EST</td>\n",
              "      <td>AGBANNEW</td>\n",
              "      <td>-4.000667</td>\n",
              "      <td>5.368194</td>\n",
              "      <td>LAGUNE</td>\n",
              "      <td>NaN</td>\n",
              "      <td>1502501d78</td>\n",
              "      <td>0bb492ef17</td>\n",
              "    </tr>\n",
              "    <tr>\n",
              "      <th>2</th>\n",
              "      <td>2</td>\n",
              "      <td>ADJAME</td>\n",
              "      <td>In Service</td>\n",
              "      <td>ABIDJAN</td>\n",
              "      <td>\"Abidjan_EST</td>\n",
              "      <td>AGBANNEW</td>\n",
              "      <td>-4.000667</td>\n",
              "      <td>5.368194</td>\n",
              "      <td>LAGUNE</td>\n",
              "      <td>NaN</td>\n",
              "      <td>0c2e182a0c</td>\n",
              "      <td>0bb492ef17</td>\n",
              "    </tr>\n",
              "  </tbody>\n",
              "</table>\n",
              "</div>"
            ],
            "text/plain": [
              "   Unnamed: 0    CITY      STATUS  ... AREA     CELL_ID     SITE_ID\n",
              "0           0  ADJAME  In Service  ...  NaN  fbb2e75af3  0bb492ef17\n",
              "1           1  ADJAME  In Service  ...  NaN  1502501d78  0bb492ef17\n",
              "2           2  ADJAME  In Service  ...  NaN  0c2e182a0c  0bb492ef17\n",
              "\n",
              "[3 rows x 12 columns]"
            ]
          },
          "metadata": {
            "tags": []
          },
          "execution_count": 13
        }
      ]
    },
    {
      "cell_type": "markdown",
      "metadata": {
        "id": "YlgJss7qQSMd",
        "colab_type": "text"
      },
      "source": [
        "**4.2 splitting date and time**"
      ]
    },
    {
      "cell_type": "code",
      "metadata": {
        "id": "5i2g8kNbQgo4",
        "colab_type": "code",
        "colab": {
          "base_uri": "https://localhost:8080/",
          "height": 204
        },
        "outputId": "526adef3-fcb0-4ec9-ed03-3bbbd2a3105e"
      },
      "source": [
        "#splitting date and and column in Telcom_dataset2.csv\n",
        "df60 = df3['DATE_TIME'].apply(lambda x: pd.Series([i for i in reversed(x.lower().split(' '))]))\n",
        "df60.columns = ['TIME', 'DATE']\n",
        "df60\n",
        "#merging to the original dataset\n",
        "df70 = df60.merge(df3, left_index=True, right_index=True)\n",
        "df70\n",
        "#droping DATE_TIME column\n",
        "df80 = df70.drop('DATE_TIME', axis=1)\n",
        "df80.head()\n",
        "\n"
      ],
      "execution_count": 67,
      "outputs": [
        {
          "output_type": "execute_result",
          "data": {
            "text/html": [
              "<div>\n",
              "<style scoped>\n",
              "    .dataframe tbody tr th:only-of-type {\n",
              "        vertical-align: middle;\n",
              "    }\n",
              "\n",
              "    .dataframe tbody tr th {\n",
              "        vertical-align: top;\n",
              "    }\n",
              "\n",
              "    .dataframe thead th {\n",
              "        text-align: right;\n",
              "    }\n",
              "</style>\n",
              "<table border=\"1\" class=\"dataframe\">\n",
              "  <thead>\n",
              "    <tr style=\"text-align: right;\">\n",
              "      <th></th>\n",
              "      <th>TIME</th>\n",
              "      <th>DATE</th>\n",
              "      <th>PRODUCT</th>\n",
              "      <th>VALUE</th>\n",
              "      <th>CELL_ON_SITE</th>\n",
              "      <th>DW_A_NUMBER_INT</th>\n",
              "      <th>DW_B_NUMBER_INT</th>\n",
              "      <th>COUNTRY_A</th>\n",
              "      <th>COUNTRY_B</th>\n",
              "      <th>CELL_ID</th>\n",
              "      <th>SITE_ID</th>\n",
              "    </tr>\n",
              "  </thead>\n",
              "  <tbody>\n",
              "    <tr>\n",
              "      <th>0</th>\n",
              "      <td>23:02:06.0</td>\n",
              "      <td>2012-05-07</td>\n",
              "      <td>sms</td>\n",
              "      <td>0</td>\n",
              "      <td>2</td>\n",
              "      <td>32255675c3b6fe3</td>\n",
              "      <td>1aa7ae01386e9fb</td>\n",
              "      <td>19e2e</td>\n",
              "      <td>19e2e</td>\n",
              "      <td>+854AcBQT2</td>\n",
              "      <td>+854AcBQT2</td>\n",
              "    </tr>\n",
              "    <tr>\n",
              "      <th>1</th>\n",
              "      <td>23:03:44.0</td>\n",
              "      <td>2012-05-07</td>\n",
              "      <td>Voice</td>\n",
              "      <td>0</td>\n",
              "      <td>1</td>\n",
              "      <td>ff16d6ac74c1c64</td>\n",
              "      <td>87d87309c15a8c9</td>\n",
              "      <td>19e2e</td>\n",
              "      <td>19e2e</td>\n",
              "      <td>+854AcBQT2</td>\n",
              "      <td>+854AcBQT2</td>\n",
              "    </tr>\n",
              "    <tr>\n",
              "      <th>2</th>\n",
              "      <td>23:04:06.0</td>\n",
              "      <td>2012-05-07</td>\n",
              "      <td>sms</td>\n",
              "      <td>0</td>\n",
              "      <td>0</td>\n",
              "      <td>98d9f2fb5ff624b</td>\n",
              "      <td>93343ba6e41af95</td>\n",
              "      <td>19e2e</td>\n",
              "      <td>19e2e</td>\n",
              "      <td>+laSrk7g6q</td>\n",
              "      <td>+laSrk7g6q</td>\n",
              "    </tr>\n",
              "    <tr>\n",
              "      <th>3</th>\n",
              "      <td>23:04:48.0</td>\n",
              "      <td>2012-05-07</td>\n",
              "      <td>Voice</td>\n",
              "      <td>37</td>\n",
              "      <td>1</td>\n",
              "      <td>3f9c8a33ec7be1f</td>\n",
              "      <td>7d05a38f89c49d8</td>\n",
              "      <td>19e2e</td>\n",
              "      <td>19e2e</td>\n",
              "      <td>/xvRrCVKoQ</td>\n",
              "      <td>/xvRrCVKoQ</td>\n",
              "    </tr>\n",
              "    <tr>\n",
              "      <th>4</th>\n",
              "      <td>23:04:58.0</td>\n",
              "      <td>2012-05-07</td>\n",
              "      <td>sms</td>\n",
              "      <td>25</td>\n",
              "      <td>1</td>\n",
              "      <td>7bcccc03adf3864</td>\n",
              "      <td>56a5d5430d2fa86</td>\n",
              "      <td>19e2e</td>\n",
              "      <td>19e2e</td>\n",
              "      <td>+bO+qkSonO</td>\n",
              "      <td>+bO+qkSonO</td>\n",
              "    </tr>\n",
              "  </tbody>\n",
              "</table>\n",
              "</div>"
            ],
            "text/plain": [
              "         TIME        DATE PRODUCT  ...  COUNTRY_B     CELL_ID     SITE_ID\n",
              "0  23:02:06.0  2012-05-07     sms  ...      19e2e  +854AcBQT2  +854AcBQT2\n",
              "1  23:03:44.0  2012-05-07   Voice  ...      19e2e  +854AcBQT2  +854AcBQT2\n",
              "2  23:04:06.0  2012-05-07     sms  ...      19e2e  +laSrk7g6q  +laSrk7g6q\n",
              "3  23:04:48.0  2012-05-07   Voice  ...      19e2e  /xvRrCVKoQ  /xvRrCVKoQ\n",
              "4  23:04:58.0  2012-05-07     sms  ...      19e2e  +bO+qkSonO  +bO+qkSonO\n",
              "\n",
              "[5 rows x 11 columns]"
            ]
          },
          "metadata": {
            "tags": []
          },
          "execution_count": 67
        }
      ]
    },
    {
      "cell_type": "code",
      "metadata": {
        "id": "NZ3o2UHoSk4R",
        "colab_type": "code",
        "colab": {
          "base_uri": "https://localhost:8080/",
          "height": 34
        },
        "outputId": "91047bc9-feef-4a31-f4bf-f43859c811bd"
      },
      "source": [
        "#removing duplicated values\n",
        "df80.drop_duplicates(inplace=True)\n",
        "df80.duplicated().sum()\n"
      ],
      "execution_count": 74,
      "outputs": [
        {
          "output_type": "execute_result",
          "data": {
            "text/plain": [
              "0"
            ]
          },
          "metadata": {
            "tags": []
          },
          "execution_count": 74
        }
      ]
    },
    {
      "cell_type": "code",
      "metadata": {
        "id": "gPCf6k0BRRuu",
        "colab_type": "code",
        "colab": {
          "base_uri": "https://localhost:8080/",
          "height": 204
        },
        "outputId": "ee0daa37-862f-4d8c-c251-7f9ece918250"
      },
      "source": [
        "#splitting date and and column in Telcom_dataset3.csv\n",
        "df90 = df4['DATE_TIME'].apply(lambda x: pd.Series([i for i in reversed(x.lower().split(' '))]))\n",
        "df90.columns = ['TIME', 'DATE']\n",
        "df90\n",
        "#merging to the original dataset\n",
        "df91 = df60.merge(df4, left_index=True, right_index=True)\n",
        "df91\n",
        "#droping DATE_TIME column\n",
        "df100 = df91.drop('DATE_TIME', axis=1)\n",
        "df100.head()"
      ],
      "execution_count": null,
      "outputs": [
        {
          "output_type": "execute_result",
          "data": {
            "text/html": [
              "<div>\n",
              "<style scoped>\n",
              "    .dataframe tbody tr th:only-of-type {\n",
              "        vertical-align: middle;\n",
              "    }\n",
              "\n",
              "    .dataframe tbody tr th {\n",
              "        vertical-align: top;\n",
              "    }\n",
              "\n",
              "    .dataframe thead th {\n",
              "        text-align: right;\n",
              "    }\n",
              "</style>\n",
              "<table border=\"1\" class=\"dataframe\">\n",
              "  <thead>\n",
              "    <tr style=\"text-align: right;\">\n",
              "      <th></th>\n",
              "      <th>TIME</th>\n",
              "      <th>DATE</th>\n",
              "      <th>PRODUCT</th>\n",
              "      <th>VALUE</th>\n",
              "      <th>CELL_ON_SITE</th>\n",
              "      <th>DW_A_NUMBER_INT</th>\n",
              "      <th>DW_B_NUMBER_INT</th>\n",
              "      <th>COUNTRY_A</th>\n",
              "      <th>COUNTRY_B</th>\n",
              "      <th>CELL_ID</th>\n",
              "      <th>SITE_ID</th>\n",
              "    </tr>\n",
              "  </thead>\n",
              "  <tbody>\n",
              "    <tr>\n",
              "      <th>0</th>\n",
              "      <td>23:02:06.0</td>\n",
              "      <td>2012-05-07</td>\n",
              "      <td>Voice</td>\n",
              "      <td>61</td>\n",
              "      <td>2</td>\n",
              "      <td>966f68353622feb</td>\n",
              "      <td>ffd53a3bb2db6f1</td>\n",
              "      <td>19e2e</td>\n",
              "      <td>19e2e</td>\n",
              "      <td>+38u2u/rfx</td>\n",
              "      <td>+38u2u/rfx</td>\n",
              "    </tr>\n",
              "    <tr>\n",
              "      <th>1</th>\n",
              "      <td>23:03:44.0</td>\n",
              "      <td>2012-05-07</td>\n",
              "      <td>sms</td>\n",
              "      <td>0</td>\n",
              "      <td>1</td>\n",
              "      <td>a0a597384c612d7</td>\n",
              "      <td>cf3b218f1dde792</td>\n",
              "      <td>19e2e</td>\n",
              "      <td>19e2e</td>\n",
              "      <td>+Fs4mTvdKx</td>\n",
              "      <td>+Fs4mTvdKx</td>\n",
              "    </tr>\n",
              "    <tr>\n",
              "      <th>2</th>\n",
              "      <td>23:04:06.0</td>\n",
              "      <td>2012-05-07</td>\n",
              "      <td>Voice</td>\n",
              "      <td>10</td>\n",
              "      <td>1</td>\n",
              "      <td>5441a9a58c97132</td>\n",
              "      <td>52f8b299515b9b7</td>\n",
              "      <td>19e2e</td>\n",
              "      <td>19e2e</td>\n",
              "      <td>+ZaaZozy/+</td>\n",
              "      <td>+ZaaZozy/+</td>\n",
              "    </tr>\n",
              "    <tr>\n",
              "      <th>3</th>\n",
              "      <td>23:04:48.0</td>\n",
              "      <td>2012-05-07</td>\n",
              "      <td>sms</td>\n",
              "      <td>0</td>\n",
              "      <td>0</td>\n",
              "      <td>8ab8b9ed6989f61</td>\n",
              "      <td>e09e736e46c5c3d</td>\n",
              "      <td>19e2e</td>\n",
              "      <td>19e2e</td>\n",
              "      <td>+cNeJzsTp3</td>\n",
              "      <td>+cNeJzsTp3</td>\n",
              "    </tr>\n",
              "    <tr>\n",
              "      <th>4</th>\n",
              "      <td>23:04:58.0</td>\n",
              "      <td>2012-05-07</td>\n",
              "      <td>Voice</td>\n",
              "      <td>22</td>\n",
              "      <td>4</td>\n",
              "      <td>52662a62b199334</td>\n",
              "      <td>2186273faab4602</td>\n",
              "      <td>19e2e</td>\n",
              "      <td>19e2e</td>\n",
              "      <td>/eeMklgyJA</td>\n",
              "      <td>/eeMklgyJA</td>\n",
              "    </tr>\n",
              "  </tbody>\n",
              "</table>\n",
              "</div>"
            ],
            "text/plain": [
              "         TIME        DATE PRODUCT  ...  COUNTRY_B     CELL_ID     SITE_ID\n",
              "0  23:02:06.0  2012-05-07   Voice  ...      19e2e  +38u2u/rfx  +38u2u/rfx\n",
              "1  23:03:44.0  2012-05-07     sms  ...      19e2e  +Fs4mTvdKx  +Fs4mTvdKx\n",
              "2  23:04:06.0  2012-05-07   Voice  ...      19e2e  +ZaaZozy/+  +ZaaZozy/+\n",
              "3  23:04:48.0  2012-05-07     sms  ...      19e2e  +cNeJzsTp3  +cNeJzsTp3\n",
              "4  23:04:58.0  2012-05-07   Voice  ...      19e2e  /eeMklgyJA  /eeMklgyJA\n",
              "\n",
              "[5 rows x 11 columns]"
            ]
          },
          "metadata": {
            "tags": []
          },
          "execution_count": 15
        }
      ]
    },
    {
      "cell_type": "code",
      "metadata": {
        "id": "bC4pKqVdTT3a",
        "colab_type": "code",
        "colab": {
          "base_uri": "https://localhost:8080/",
          "height": 34
        },
        "outputId": "18fee5c3-70da-406a-e6c9-d86737d18ee7"
      },
      "source": [
        "#removing duplicated values\n",
        "df100.drop_duplicates(inplace=True)\n",
        "df100.duplicated().sum()"
      ],
      "execution_count": 75,
      "outputs": [
        {
          "output_type": "execute_result",
          "data": {
            "text/plain": [
              "0"
            ]
          },
          "metadata": {
            "tags": []
          },
          "execution_count": 75
        }
      ]
    },
    {
      "cell_type": "code",
      "metadata": {
        "id": "wEj2Y8YYTTps",
        "colab_type": "code",
        "colab": {
          "base_uri": "https://localhost:8080/",
          "height": 34
        },
        "outputId": "3a3ddafb-4d9c-415a-d912-32fcf8b42bcf"
      },
      "source": [
        "#removing duplicated values on Telcom_dataset.csv\n",
        "df2.drop_duplicates(inplace=True)\n",
        "df2.duplicated().sum()"
      ],
      "execution_count": 77,
      "outputs": [
        {
          "output_type": "execute_result",
          "data": {
            "text/plain": [
              "0"
            ]
          },
          "metadata": {
            "tags": []
          },
          "execution_count": 77
        }
      ]
    },
    {
      "cell_type": "markdown",
      "metadata": {
        "id": "5v8z5Il8yiDy",
        "colab_type": "text"
      },
      "source": [
        "**4.3 Merging datasets**"
      ]
    },
    {
      "cell_type": "code",
      "metadata": {
        "id": "Ua-9fAjtFbN9",
        "colab_type": "code",
        "colab": {
          "base_uri": "https://localhost:8080/",
          "height": 326
        },
        "outputId": "3f14e175-83ba-478f-e264-9b57f8aef860"
      },
      "source": [
        "#merging telcom_dataset.csv, telcom_dataset2.csv using append since they are similar\n",
        "df6 = df80.append([df100, df2])\n",
        "df6\n",
        "#merging the telcom_dataset.csv, telcom_dataset2.csv appended dataset with the Cells_geo.csv dataset\n",
        "df7 = df5.merge(df6, left_index=True, right_index=True)\n",
        "df7.head()\n"
      ],
      "execution_count": 78,
      "outputs": [
        {
          "output_type": "execute_result",
          "data": {
            "text/html": [
              "<div>\n",
              "<style scoped>\n",
              "    .dataframe tbody tr th:only-of-type {\n",
              "        vertical-align: middle;\n",
              "    }\n",
              "\n",
              "    .dataframe tbody tr th {\n",
              "        vertical-align: top;\n",
              "    }\n",
              "\n",
              "    .dataframe thead th {\n",
              "        text-align: right;\n",
              "    }\n",
              "</style>\n",
              "<table border=\"1\" class=\"dataframe\">\n",
              "  <thead>\n",
              "    <tr style=\"text-align: right;\">\n",
              "      <th></th>\n",
              "      <th>Unnamed: 0</th>\n",
              "      <th>CITY</th>\n",
              "      <th>STATUS</th>\n",
              "      <th>LOCALISATION</th>\n",
              "      <th>DECOUPZONE</th>\n",
              "      <th>ZONENAME</th>\n",
              "      <th>LONGITUDE</th>\n",
              "      <th>LATITUDE</th>\n",
              "      <th>REGION</th>\n",
              "      <th>AREA</th>\n",
              "      <th>CELL_ID_x</th>\n",
              "      <th>SITE_ID_x</th>\n",
              "      <th>TIME</th>\n",
              "      <th>DATE</th>\n",
              "      <th>PRODUCT</th>\n",
              "      <th>VALUE</th>\n",
              "      <th>CELL_ON_SITE</th>\n",
              "      <th>DW_A_NUMBER_INT</th>\n",
              "      <th>DW_B_NUMBER_INT</th>\n",
              "      <th>COUNTRY_A</th>\n",
              "      <th>COUNTRY_B</th>\n",
              "      <th>CELL_ID_y</th>\n",
              "      <th>SITE_ID_y</th>\n",
              "    </tr>\n",
              "  </thead>\n",
              "  <tbody>\n",
              "    <tr>\n",
              "      <th>0</th>\n",
              "      <td>0</td>\n",
              "      <td>ADJAME</td>\n",
              "      <td>In Service</td>\n",
              "      <td>ABIDJAN</td>\n",
              "      <td>\"Abidjan_EST</td>\n",
              "      <td>AGBANNEW</td>\n",
              "      <td>-4.000667</td>\n",
              "      <td>5.368194</td>\n",
              "      <td>LAGUNE</td>\n",
              "      <td>NaN</td>\n",
              "      <td>fbb2e75af3</td>\n",
              "      <td>0bb492ef17</td>\n",
              "      <td>23:02:06.0</td>\n",
              "      <td>2012-05-07</td>\n",
              "      <td>sms</td>\n",
              "      <td>0</td>\n",
              "      <td>2</td>\n",
              "      <td>32255675c3b6fe3</td>\n",
              "      <td>1aa7ae01386e9fb</td>\n",
              "      <td>19e2e</td>\n",
              "      <td>19e2e</td>\n",
              "      <td>+854AcBQT2</td>\n",
              "      <td>+854AcBQT2</td>\n",
              "    </tr>\n",
              "    <tr>\n",
              "      <th>0</th>\n",
              "      <td>0</td>\n",
              "      <td>ADJAME</td>\n",
              "      <td>In Service</td>\n",
              "      <td>ABIDJAN</td>\n",
              "      <td>\"Abidjan_EST</td>\n",
              "      <td>AGBANNEW</td>\n",
              "      <td>-4.000667</td>\n",
              "      <td>5.368194</td>\n",
              "      <td>LAGUNE</td>\n",
              "      <td>NaN</td>\n",
              "      <td>fbb2e75af3</td>\n",
              "      <td>0bb492ef17</td>\n",
              "      <td>23:02:06.0</td>\n",
              "      <td>2012-05-07</td>\n",
              "      <td>Voice</td>\n",
              "      <td>61</td>\n",
              "      <td>2</td>\n",
              "      <td>966f68353622feb</td>\n",
              "      <td>ffd53a3bb2db6f1</td>\n",
              "      <td>19e2e</td>\n",
              "      <td>19e2e</td>\n",
              "      <td>+38u2u/rfx</td>\n",
              "      <td>+38u2u/rfx</td>\n",
              "    </tr>\n",
              "    <tr>\n",
              "      <th>0</th>\n",
              "      <td>0</td>\n",
              "      <td>ADJAME</td>\n",
              "      <td>In Service</td>\n",
              "      <td>ABIDJAN</td>\n",
              "      <td>\"Abidjan_EST</td>\n",
              "      <td>AGBANNEW</td>\n",
              "      <td>-4.000667</td>\n",
              "      <td>5.368194</td>\n",
              "      <td>LAGUNE</td>\n",
              "      <td>NaN</td>\n",
              "      <td>fbb2e75af3</td>\n",
              "      <td>0bb492ef17</td>\n",
              "      <td>04:37.0</td>\n",
              "      <td>NaN</td>\n",
              "      <td>Voice</td>\n",
              "      <td>0</td>\n",
              "      <td>1</td>\n",
              "      <td>49fae048b547780</td>\n",
              "      <td>1a49f8b0ded9de6</td>\n",
              "      <td>19e2e</td>\n",
              "      <td>19e2e</td>\n",
              "      <td>/TJNe+Mmtu</td>\n",
              "      <td>/TJNe+Mmtu</td>\n",
              "    </tr>\n",
              "    <tr>\n",
              "      <th>1</th>\n",
              "      <td>1</td>\n",
              "      <td>ADJAME</td>\n",
              "      <td>In Service</td>\n",
              "      <td>ABIDJAN</td>\n",
              "      <td>\"Abidjan_EST</td>\n",
              "      <td>AGBANNEW</td>\n",
              "      <td>-4.000667</td>\n",
              "      <td>5.368194</td>\n",
              "      <td>LAGUNE</td>\n",
              "      <td>NaN</td>\n",
              "      <td>1502501d78</td>\n",
              "      <td>0bb492ef17</td>\n",
              "      <td>23:03:44.0</td>\n",
              "      <td>2012-05-07</td>\n",
              "      <td>Voice</td>\n",
              "      <td>0</td>\n",
              "      <td>1</td>\n",
              "      <td>ff16d6ac74c1c64</td>\n",
              "      <td>87d87309c15a8c9</td>\n",
              "      <td>19e2e</td>\n",
              "      <td>19e2e</td>\n",
              "      <td>+854AcBQT2</td>\n",
              "      <td>+854AcBQT2</td>\n",
              "    </tr>\n",
              "    <tr>\n",
              "      <th>1</th>\n",
              "      <td>1</td>\n",
              "      <td>ADJAME</td>\n",
              "      <td>In Service</td>\n",
              "      <td>ABIDJAN</td>\n",
              "      <td>\"Abidjan_EST</td>\n",
              "      <td>AGBANNEW</td>\n",
              "      <td>-4.000667</td>\n",
              "      <td>5.368194</td>\n",
              "      <td>LAGUNE</td>\n",
              "      <td>NaN</td>\n",
              "      <td>1502501d78</td>\n",
              "      <td>0bb492ef17</td>\n",
              "      <td>23:03:44.0</td>\n",
              "      <td>2012-05-07</td>\n",
              "      <td>sms</td>\n",
              "      <td>0</td>\n",
              "      <td>1</td>\n",
              "      <td>a0a597384c612d7</td>\n",
              "      <td>cf3b218f1dde792</td>\n",
              "      <td>19e2e</td>\n",
              "      <td>19e2e</td>\n",
              "      <td>+Fs4mTvdKx</td>\n",
              "      <td>+Fs4mTvdKx</td>\n",
              "    </tr>\n",
              "  </tbody>\n",
              "</table>\n",
              "</div>"
            ],
            "text/plain": [
              "   Unnamed: 0    CITY      STATUS  ... COUNTRY_B   CELL_ID_y   SITE_ID_y\n",
              "0           0  ADJAME  In Service  ...     19e2e  +854AcBQT2  +854AcBQT2\n",
              "0           0  ADJAME  In Service  ...     19e2e  +38u2u/rfx  +38u2u/rfx\n",
              "0           0  ADJAME  In Service  ...     19e2e  /TJNe+Mmtu  /TJNe+Mmtu\n",
              "1           1  ADJAME  In Service  ...     19e2e  +854AcBQT2  +854AcBQT2\n",
              "1           1  ADJAME  In Service  ...     19e2e  +Fs4mTvdKx  +Fs4mTvdKx\n",
              "\n",
              "[5 rows x 23 columns]"
            ]
          },
          "metadata": {
            "tags": []
          },
          "execution_count": 78
        }
      ]
    },
    {
      "cell_type": "markdown",
      "metadata": {
        "id": "tqcm_PUWJbEJ",
        "colab_type": "text"
      },
      "source": [
        " **4.4 Dropping null values**"
      ]
    },
    {
      "cell_type": "code",
      "metadata": {
        "id": "aOLw3SpFcQy0",
        "colab_type": "code",
        "colab": {
          "base_uri": "https://localhost:8080/",
          "height": 425
        },
        "outputId": "894f6d4f-0066-4277-d57e-fe08a250bc22"
      },
      "source": [
        "#dropping the null values\n",
        "df8 = df7.dropna()\n",
        "df8.isna().sum()"
      ],
      "execution_count": 79,
      "outputs": [
        {
          "output_type": "execute_result",
          "data": {
            "text/plain": [
              "Unnamed: 0         0\n",
              "CITY               0\n",
              "STATUS             0\n",
              "LOCALISATION       0\n",
              "DECOUPZONE         0\n",
              "ZONENAME           0\n",
              "LONGITUDE          0\n",
              "LATITUDE           0\n",
              "REGION             0\n",
              "AREA               0\n",
              "CELL_ID_x          0\n",
              "SITE_ID_x          0\n",
              "TIME               0\n",
              "DATE               0\n",
              "PRODUCT            0\n",
              "VALUE              0\n",
              "CELL_ON_SITE       0\n",
              "DW_A_NUMBER_INT    0\n",
              "DW_B_NUMBER_INT    0\n",
              "COUNTRY_A          0\n",
              "COUNTRY_B          0\n",
              "CELL_ID_y          0\n",
              "SITE_ID_y          0\n",
              "dtype: int64"
            ]
          },
          "metadata": {
            "tags": []
          },
          "execution_count": 79
        }
      ]
    },
    {
      "cell_type": "code",
      "metadata": {
        "id": "1xKOy5utKURa",
        "colab_type": "code",
        "colab": {
          "base_uri": "https://localhost:8080/",
          "height": 34
        },
        "outputId": "8d5cc361-167e-43ef-ad14-74564818557c"
      },
      "source": [
        "#merged datased shape after dropping duplicated and null values\n",
        "df8.shape"
      ],
      "execution_count": 80,
      "outputs": [
        {
          "output_type": "execute_result",
          "data": {
            "text/plain": [
              "(6717, 23)"
            ]
          },
          "metadata": {
            "tags": []
          },
          "execution_count": 80
        }
      ]
    },
    {
      "cell_type": "markdown",
      "metadata": {
        "id": "UlA6kSUOTzn8",
        "colab_type": "text"
      },
      "source": [
        "# **5. Analysis**"
      ]
    },
    {
      "cell_type": "markdown",
      "metadata": {
        "id": "ziyOzO7rU9fB",
        "colab_type": "text"
      },
      "source": [
        "i will analyse the merged and cleaned dataset by answering different questions as follows: "
      ]
    },
    {
      "cell_type": "code",
      "metadata": {
        "id": "scy4avQ2Vn15",
        "colab_type": "code",
        "colab": {
          "base_uri": "https://localhost:8080/",
          "height": 326
        },
        "outputId": "6554b2a8-0b15-4a37-bade-5a3173dc8f58"
      },
      "source": [
        "df8.head()"
      ],
      "execution_count": 81,
      "outputs": [
        {
          "output_type": "execute_result",
          "data": {
            "text/html": [
              "<div>\n",
              "<style scoped>\n",
              "    .dataframe tbody tr th:only-of-type {\n",
              "        vertical-align: middle;\n",
              "    }\n",
              "\n",
              "    .dataframe tbody tr th {\n",
              "        vertical-align: top;\n",
              "    }\n",
              "\n",
              "    .dataframe thead th {\n",
              "        text-align: right;\n",
              "    }\n",
              "</style>\n",
              "<table border=\"1\" class=\"dataframe\">\n",
              "  <thead>\n",
              "    <tr style=\"text-align: right;\">\n",
              "      <th></th>\n",
              "      <th>Unnamed: 0</th>\n",
              "      <th>CITY</th>\n",
              "      <th>STATUS</th>\n",
              "      <th>LOCALISATION</th>\n",
              "      <th>DECOUPZONE</th>\n",
              "      <th>ZONENAME</th>\n",
              "      <th>LONGITUDE</th>\n",
              "      <th>LATITUDE</th>\n",
              "      <th>REGION</th>\n",
              "      <th>AREA</th>\n",
              "      <th>CELL_ID_x</th>\n",
              "      <th>SITE_ID_x</th>\n",
              "      <th>TIME</th>\n",
              "      <th>DATE</th>\n",
              "      <th>PRODUCT</th>\n",
              "      <th>VALUE</th>\n",
              "      <th>CELL_ON_SITE</th>\n",
              "      <th>DW_A_NUMBER_INT</th>\n",
              "      <th>DW_B_NUMBER_INT</th>\n",
              "      <th>COUNTRY_A</th>\n",
              "      <th>COUNTRY_B</th>\n",
              "      <th>CELL_ID_y</th>\n",
              "      <th>SITE_ID_y</th>\n",
              "    </tr>\n",
              "  </thead>\n",
              "  <tbody>\n",
              "    <tr>\n",
              "      <th>23</th>\n",
              "      <td>23</td>\n",
              "      <td>ABOBO</td>\n",
              "      <td>In Service</td>\n",
              "      <td>ABIDJAN</td>\n",
              "      <td>Abidjan_NORD</td>\n",
              "      <td>ZONE E - Abidjan_NORD</td>\n",
              "      <td>-4.014139</td>\n",
              "      <td>5.4335</td>\n",
              "      <td>LAGUNE</td>\n",
              "      <td>ABIDJAN NORTH</td>\n",
              "      <td>f740406877</td>\n",
              "      <td>0f34c36ac5</td>\n",
              "      <td>23:09:50.0</td>\n",
              "      <td>2012-05-07</td>\n",
              "      <td>sms</td>\n",
              "      <td>0</td>\n",
              "      <td>1</td>\n",
              "      <td>8da7870ee027a39</td>\n",
              "      <td>43856ca73fbadf3</td>\n",
              "      <td>19e2e</td>\n",
              "      <td>19e2e</td>\n",
              "      <td>+854AcBQT2</td>\n",
              "      <td>+854AcBQT2</td>\n",
              "    </tr>\n",
              "    <tr>\n",
              "      <th>23</th>\n",
              "      <td>23</td>\n",
              "      <td>ABOBO</td>\n",
              "      <td>In Service</td>\n",
              "      <td>ABIDJAN</td>\n",
              "      <td>Abidjan_NORD</td>\n",
              "      <td>ZONE E - Abidjan_NORD</td>\n",
              "      <td>-4.014139</td>\n",
              "      <td>5.4335</td>\n",
              "      <td>LAGUNE</td>\n",
              "      <td>ABIDJAN NORTH</td>\n",
              "      <td>f740406877</td>\n",
              "      <td>0f34c36ac5</td>\n",
              "      <td>23:09:50.0</td>\n",
              "      <td>2012-05-07</td>\n",
              "      <td>sms</td>\n",
              "      <td>25</td>\n",
              "      <td>2</td>\n",
              "      <td>711a413770e5028</td>\n",
              "      <td>fc1e25118646138</td>\n",
              "      <td>19e2e</td>\n",
              "      <td>19e2e</td>\n",
              "      <td>2q0YsSCxbH</td>\n",
              "      <td>2q0YsSCxbH</td>\n",
              "    </tr>\n",
              "    <tr>\n",
              "      <th>24</th>\n",
              "      <td>24</td>\n",
              "      <td>ABOBO</td>\n",
              "      <td>In Service</td>\n",
              "      <td>ABIDJAN</td>\n",
              "      <td>Abidjan_NORD</td>\n",
              "      <td>ZONE E - Abidjan_NORD</td>\n",
              "      <td>-4.014139</td>\n",
              "      <td>5.4335</td>\n",
              "      <td>LAGUNE</td>\n",
              "      <td>ABIDJAN NORTH</td>\n",
              "      <td>959e54c8f7</td>\n",
              "      <td>0f34c36ac5</td>\n",
              "      <td>23:09:56.0</td>\n",
              "      <td>2012-05-07</td>\n",
              "      <td>sms</td>\n",
              "      <td>0</td>\n",
              "      <td>1</td>\n",
              "      <td>0108b4b998a2041</td>\n",
              "      <td>8051dc22ab2d575</td>\n",
              "      <td>19e2e</td>\n",
              "      <td>19e2e</td>\n",
              "      <td>+e+xcimwre</td>\n",
              "      <td>+e+xcimwre</td>\n",
              "    </tr>\n",
              "    <tr>\n",
              "      <th>24</th>\n",
              "      <td>24</td>\n",
              "      <td>ABOBO</td>\n",
              "      <td>In Service</td>\n",
              "      <td>ABIDJAN</td>\n",
              "      <td>Abidjan_NORD</td>\n",
              "      <td>ZONE E - Abidjan_NORD</td>\n",
              "      <td>-4.014139</td>\n",
              "      <td>5.4335</td>\n",
              "      <td>LAGUNE</td>\n",
              "      <td>ABIDJAN NORTH</td>\n",
              "      <td>959e54c8f7</td>\n",
              "      <td>0f34c36ac5</td>\n",
              "      <td>23:09:56.0</td>\n",
              "      <td>2012-05-07</td>\n",
              "      <td>sms</td>\n",
              "      <td>0</td>\n",
              "      <td>4</td>\n",
              "      <td>909bb6ebfb75709</td>\n",
              "      <td>93343ba6e41af95</td>\n",
              "      <td>19e2e</td>\n",
              "      <td>19e2e</td>\n",
              "      <td>1MTLUFpdzd</td>\n",
              "      <td>1MTLUFpdzd</td>\n",
              "    </tr>\n",
              "    <tr>\n",
              "      <th>25</th>\n",
              "      <td>25</td>\n",
              "      <td>ABOBO</td>\n",
              "      <td>In Service</td>\n",
              "      <td>ABIDJAN</td>\n",
              "      <td>Abidjan_NORD</td>\n",
              "      <td>ZONE E - Abidjan_NORD</td>\n",
              "      <td>-4.014139</td>\n",
              "      <td>5.4335</td>\n",
              "      <td>LAGUNE</td>\n",
              "      <td>ABIDJAN NORTH</td>\n",
              "      <td>56b7e7000c</td>\n",
              "      <td>0f34c36ac5</td>\n",
              "      <td>23:10:13.0</td>\n",
              "      <td>2012-05-07</td>\n",
              "      <td>Voice</td>\n",
              "      <td>0</td>\n",
              "      <td>0</td>\n",
              "      <td>eece320c922fa19</td>\n",
              "      <td>f9f0526aca7ba01</td>\n",
              "      <td>19e2e</td>\n",
              "      <td>19e2e</td>\n",
              "      <td>+pZNtCvhmT</td>\n",
              "      <td>+pZNtCvhmT</td>\n",
              "    </tr>\n",
              "  </tbody>\n",
              "</table>\n",
              "</div>"
            ],
            "text/plain": [
              "    Unnamed: 0   CITY      STATUS  ... COUNTRY_B   CELL_ID_y   SITE_ID_y\n",
              "23          23  ABOBO  In Service  ...     19e2e  +854AcBQT2  +854AcBQT2\n",
              "23          23  ABOBO  In Service  ...     19e2e  2q0YsSCxbH  2q0YsSCxbH\n",
              "24          24  ABOBO  In Service  ...     19e2e  +e+xcimwre  +e+xcimwre\n",
              "24          24  ABOBO  In Service  ...     19e2e  1MTLUFpdzd  1MTLUFpdzd\n",
              "25          25  ABOBO  In Service  ...     19e2e  +pZNtCvhmT  +pZNtCvhmT\n",
              "\n",
              "[5 rows x 23 columns]"
            ]
          },
          "metadata": {
            "tags": []
          },
          "execution_count": 81
        }
      ]
    },
    {
      "cell_type": "code",
      "metadata": {
        "id": "oCAatPpGH3ln",
        "colab_type": "code",
        "colab": {
          "base_uri": "https://localhost:8080/",
          "height": 238
        },
        "outputId": "d9d16471-f370-438d-e6e2-7e95a11f2a8f"
      },
      "source": [
        "#1. Which ones were the most used city for the three days?\n",
        "df40 =df8['DATE'].groupby(df8['CITY'])\n",
        "df40.sum()"
      ],
      "execution_count": 121,
      "outputs": [
        {
          "output_type": "execute_result",
          "data": {
            "text/plain": [
              "CITY\n",
              "ABENGOUROU       2012-05-072012-05-072012-05-072012-05-072012-0...\n",
              "ABOBO            2012-05-072012-05-072012-05-072012-05-072012-0...\n",
              "ABOISSO          2012-05-072012-05-072012-05-072012-05-072012-0...\n",
              "ABOISSO COMOE    2012-05-072012-05-072012-05-072012-05-072012-0...\n",
              "ABONGOUA         2012-05-072012-05-072012-05-072012-05-072012-0...\n",
              "                                       ...                        \n",
              "ZATTA                               2012-05-082012-05-082012-05-08\n",
              "ZIKISSO          2012-05-082012-05-082012-05-082012-05-082012-0...\n",
              "ZON-HOUNIEN      2012-05-082012-05-082012-05-082012-05-082012-0...\n",
              "ZOUKOUGBEU                2012-05-082012-05-082012-05-082012-05-08\n",
              "ZUENOULA         2012-05-082012-05-082012-05-082012-05-082012-0...\n",
              "Name: DATE, Length: 492, dtype: object"
            ]
          },
          "metadata": {
            "tags": []
          },
          "execution_count": 121
        }
      ]
    },
    {
      "cell_type": "code",
      "metadata": {
        "id": "mcDmQV9KVcr6",
        "colab_type": "code",
        "colab": {
          "base_uri": "https://localhost:8080/",
          "height": 359
        },
        "outputId": "61e6c8cb-ac1c-4edf-e232-14f619c645be"
      },
      "source": [
        "#2. Which cities were the most used during business and home hour\n",
        "z = df8.groupby(['CITY', 'TIME', 'REGION']).sum().reset_index()\n",
        "z.sort_values('TIME', ascending=0).head(10)"
      ],
      "execution_count": 83,
      "outputs": [
        {
          "output_type": "execute_result",
          "data": {
            "text/html": [
              "<div>\n",
              "<style scoped>\n",
              "    .dataframe tbody tr th:only-of-type {\n",
              "        vertical-align: middle;\n",
              "    }\n",
              "\n",
              "    .dataframe tbody tr th {\n",
              "        vertical-align: top;\n",
              "    }\n",
              "\n",
              "    .dataframe thead th {\n",
              "        text-align: right;\n",
              "    }\n",
              "</style>\n",
              "<table border=\"1\" class=\"dataframe\">\n",
              "  <thead>\n",
              "    <tr style=\"text-align: right;\">\n",
              "      <th></th>\n",
              "      <th>CITY</th>\n",
              "      <th>TIME</th>\n",
              "      <th>REGION</th>\n",
              "      <th>Unnamed: 0</th>\n",
              "      <th>LONGITUDE</th>\n",
              "      <th>LATITUDE</th>\n",
              "      <th>VALUE</th>\n",
              "    </tr>\n",
              "  </thead>\n",
              "  <tbody>\n",
              "    <tr>\n",
              "      <th>1056</th>\n",
              "      <td>PLATEAU</td>\n",
              "      <td>23:59:56.0</td>\n",
              "      <td>LAGUNE</td>\n",
              "      <td>765</td>\n",
              "      <td>-4.024028</td>\n",
              "      <td>5.334806</td>\n",
              "      <td>0</td>\n",
              "    </tr>\n",
              "    <tr>\n",
              "      <th>1055</th>\n",
              "      <td>PLATEAU</td>\n",
              "      <td>23:59:55.0</td>\n",
              "      <td>LAGUNE</td>\n",
              "      <td>764</td>\n",
              "      <td>-4.024028</td>\n",
              "      <td>5.334806</td>\n",
              "      <td>0</td>\n",
              "    </tr>\n",
              "    <tr>\n",
              "      <th>944</th>\n",
              "      <td>MARCORY</td>\n",
              "      <td>23:59:51.0</td>\n",
              "      <td>LAGUNE</td>\n",
              "      <td>763</td>\n",
              "      <td>-3.959028</td>\n",
              "      <td>5.282750</td>\n",
              "      <td>0</td>\n",
              "    </tr>\n",
              "    <tr>\n",
              "      <th>943</th>\n",
              "      <td>MARCORY</td>\n",
              "      <td>23:59:50.0</td>\n",
              "      <td>LAGUNE</td>\n",
              "      <td>762</td>\n",
              "      <td>-3.959028</td>\n",
              "      <td>5.282750</td>\n",
              "      <td>50</td>\n",
              "    </tr>\n",
              "    <tr>\n",
              "      <th>942</th>\n",
              "      <td>MARCORY</td>\n",
              "      <td>23:59:48.0</td>\n",
              "      <td>LAGUNE</td>\n",
              "      <td>761</td>\n",
              "      <td>-3.959028</td>\n",
              "      <td>5.282750</td>\n",
              "      <td>0</td>\n",
              "    </tr>\n",
              "    <tr>\n",
              "      <th>941</th>\n",
              "      <td>MARCORY</td>\n",
              "      <td>23:59:40.0</td>\n",
              "      <td>LAGUNE</td>\n",
              "      <td>760</td>\n",
              "      <td>-3.959028</td>\n",
              "      <td>5.282750</td>\n",
              "      <td>0</td>\n",
              "    </tr>\n",
              "    <tr>\n",
              "      <th>506</th>\n",
              "      <td>BIANOUAN</td>\n",
              "      <td>23:59:38.0</td>\n",
              "      <td>MOYEN COMOE</td>\n",
              "      <td>3034</td>\n",
              "      <td>-12.728889</td>\n",
              "      <td>24.063667</td>\n",
              "      <td>101</td>\n",
              "    </tr>\n",
              "    <tr>\n",
              "      <th>505</th>\n",
              "      <td>BIANOUAN</td>\n",
              "      <td>23:59:35.0</td>\n",
              "      <td>MOYEN COMOE</td>\n",
              "      <td>1514</td>\n",
              "      <td>-6.364444</td>\n",
              "      <td>12.031833</td>\n",
              "      <td>45</td>\n",
              "    </tr>\n",
              "    <tr>\n",
              "      <th>504</th>\n",
              "      <td>BIANKOUMA</td>\n",
              "      <td>23:59:27.0</td>\n",
              "      <td>18 MONTAGNES</td>\n",
              "      <td>1512</td>\n",
              "      <td>-15.221444</td>\n",
              "      <td>15.492278</td>\n",
              "      <td>122</td>\n",
              "    </tr>\n",
              "    <tr>\n",
              "      <th>503</th>\n",
              "      <td>BIANKOUMA</td>\n",
              "      <td>23:59:23.0</td>\n",
              "      <td>18 MONTAGNES</td>\n",
              "      <td>1510</td>\n",
              "      <td>-15.221444</td>\n",
              "      <td>15.492278</td>\n",
              "      <td>480</td>\n",
              "    </tr>\n",
              "  </tbody>\n",
              "</table>\n",
              "</div>"
            ],
            "text/plain": [
              "           CITY        TIME        REGION  ...  LONGITUDE   LATITUDE  VALUE\n",
              "1056    PLATEAU  23:59:56.0        LAGUNE  ...  -4.024028   5.334806      0\n",
              "1055    PLATEAU  23:59:55.0        LAGUNE  ...  -4.024028   5.334806      0\n",
              "944     MARCORY  23:59:51.0        LAGUNE  ...  -3.959028   5.282750      0\n",
              "943     MARCORY  23:59:50.0        LAGUNE  ...  -3.959028   5.282750     50\n",
              "942     MARCORY  23:59:48.0        LAGUNE  ...  -3.959028   5.282750      0\n",
              "941     MARCORY  23:59:40.0        LAGUNE  ...  -3.959028   5.282750      0\n",
              "506    BIANOUAN  23:59:38.0   MOYEN COMOE  ... -12.728889  24.063667    101\n",
              "505    BIANOUAN  23:59:35.0   MOYEN COMOE  ...  -6.364444  12.031833     45\n",
              "504   BIANKOUMA  23:59:27.0  18 MONTAGNES  ... -15.221444  15.492278    122\n",
              "503   BIANKOUMA  23:59:23.0  18 MONTAGNES  ... -15.221444  15.492278    480\n",
              "\n",
              "[10 rows x 7 columns]"
            ]
          },
          "metadata": {
            "tags": []
          },
          "execution_count": 83
        }
      ]
    },
    {
      "cell_type": "code",
      "metadata": {
        "id": "laWxEb9GV6Md",
        "colab_type": "code",
        "colab": {
          "base_uri": "https://localhost:8080/",
          "height": 85
        },
        "outputId": "8b75cfcd-cf51-487d-826f-28a066557253"
      },
      "source": [
        "#3. Most used city for the three days?\n",
        "test1 = df8['CITY'].groupby(df8['DATE'])\n",
        "test1.sum()"
      ],
      "execution_count": 105,
      "outputs": [
        {
          "output_type": "execute_result",
          "data": {
            "text/plain": [
              "DATE\n",
              "2012-05-07    ABOBOABOBOABOBOABOBOABOBOABOBOABOBOABOBOABOBOA...\n",
              "2012-05-08    PLATEAUPLATEAUPLATEAUPLATEAUPLATEAUPLATEAUPLAT...\n",
              "Name: CITY, dtype: object"
            ]
          },
          "metadata": {
            "tags": []
          },
          "execution_count": 105
        }
      ]
    },
    {
      "cell_type": "code",
      "metadata": {
        "id": "tDSf6dfybGwf",
        "colab_type": "code",
        "colab": {
          "base_uri": "https://localhost:8080/",
          "height": 51
        },
        "outputId": "192d8420-9f8b-432e-9cb3-15a2fb8c425f"
      },
      "source": [
        "#4. The most used zone\n",
        "df45 = df8[('ZONENAME')].value_counts()\n",
        "df45.head(1)"
      ],
      "execution_count": 107,
      "outputs": [
        {
          "output_type": "execute_result",
          "data": {
            "text/plain": [
              "ZONE A - Grand-NORD    878\n",
              "Name: ZONENAME, dtype: int64"
            ]
          },
          "metadata": {
            "tags": []
          },
          "execution_count": 107
        }
      ]
    },
    {
      "cell_type": "code",
      "metadata": {
        "id": "pmc-e_IQKARS",
        "colab_type": "code",
        "colab": {
          "base_uri": "https://localhost:8080/",
          "height": 119
        },
        "outputId": "5d498843-ad0a-4e15-c590-2e885f1ebac1"
      },
      "source": [
        "#5. The most used Region\n",
        "df41 = df8[('REGION')].value_counts()\n",
        "df41.head()"
      ],
      "execution_count": 109,
      "outputs": [
        {
          "output_type": "execute_result",
          "data": {
            "text/plain": [
              "LAGUNE               3200\n",
              "BAS SASSANDRA         414\n",
              "VALLEE DU BANDAMA     284\n",
              "LACS                  279\n",
              "HAUT SASSANDRA        257\n",
              "Name: REGION, dtype: int64"
            ]
          },
          "metadata": {
            "tags": []
          },
          "execution_count": 109
        }
      ]
    },
    {
      "cell_type": "code",
      "metadata": {
        "id": "sGkWWQbddR0a",
        "colab_type": "code",
        "colab": {
          "base_uri": "https://localhost:8080/",
          "height": 85
        },
        "outputId": "210e7481-67de-4f47-ec66-25c28798f68e"
      },
      "source": [
        "#6. The most used product\n",
        "df42 = df8[('PRODUCT')].value_counts()\n",
        "df42.head()"
      ],
      "execution_count": 87,
      "outputs": [
        {
          "output_type": "execute_result",
          "data": {
            "text/plain": [
              "sms      3986\n",
              "Voice    2563\n",
              "data      168\n",
              "Name: PRODUCT, dtype: int64"
            ]
          },
          "metadata": {
            "tags": []
          },
          "execution_count": 87
        }
      ]
    },
    {
      "cell_type": "code",
      "metadata": {
        "id": "15SfDXkud35r",
        "colab_type": "code",
        "colab": {
          "base_uri": "https://localhost:8080/",
          "height": 136
        },
        "outputId": "f229b44c-b268-4dc3-f31f-ad132d67f13f"
      },
      "source": [
        "#7. finding the most used product in each region\n",
        "l = df8.groupby(['PRODUCT', 'REGION']).sum().reset_index()\n",
        "l.sort_values('REGION', ascending=0).head(10).max()"
      ],
      "execution_count": 112,
      "outputs": [
        {
          "output_type": "execute_result",
          "data": {
            "text/plain": [
              "PRODUCT           sms\n",
              "REGION         ZANZAN\n",
              "Unnamed: 0     260114\n",
              "LONGITUDE    -6.61533\n",
              "LATITUDE      1345.22\n",
              "VALUE            5910\n",
              "dtype: object"
            ]
          },
          "metadata": {
            "tags": []
          },
          "execution_count": 112
        }
      ]
    },
    {
      "cell_type": "code",
      "metadata": {
        "id": "XLvq3yJRhcjp",
        "colab_type": "code",
        "colab": {
          "base_uri": "https://localhost:8080/",
          "height": 102
        },
        "outputId": "0ab57177-b620-419b-bd57-7787902dc550"
      },
      "source": [
        "#8. describing the product column\n",
        "df8['PRODUCT'].describe()"
      ],
      "execution_count": 90,
      "outputs": [
        {
          "output_type": "execute_result",
          "data": {
            "text/plain": [
              "count     6717\n",
              "unique       3\n",
              "top        sms\n",
              "freq      3986\n",
              "Name: PRODUCT, dtype: object"
            ]
          },
          "metadata": {
            "tags": []
          },
          "execution_count": 90
        }
      ]
    },
    {
      "cell_type": "code",
      "metadata": {
        "id": "9dqUvTpUEXRA",
        "colab_type": "code",
        "colab": {
          "base_uri": "https://localhost:8080/",
          "height": 102
        },
        "outputId": "50bd685a-2d6a-4e04-c17c-39bcea606d9c"
      },
      "source": [
        "#9. describing the STATUS column\n",
        "df8['STATUS'].describe()"
      ],
      "execution_count": 91,
      "outputs": [
        {
          "output_type": "execute_result",
          "data": {
            "text/plain": [
              "count           6717\n",
              "unique             1\n",
              "top       In Service\n",
              "freq            6717\n",
              "Name: STATUS, dtype: object"
            ]
          },
          "metadata": {
            "tags": []
          },
          "execution_count": 91
        }
      ]
    },
    {
      "cell_type": "code",
      "metadata": {
        "id": "wE4ux7tIExVf",
        "colab_type": "code",
        "colab": {
          "base_uri": "https://localhost:8080/",
          "height": 297
        },
        "outputId": "e8adc313-5364-4637-b5cc-bea524507659"
      },
      "source": [
        "#10. General descriptive statistics\n",
        "df8.describe()"
      ],
      "execution_count": 93,
      "outputs": [
        {
          "output_type": "execute_result",
          "data": {
            "text/html": [
              "<div>\n",
              "<style scoped>\n",
              "    .dataframe tbody tr th:only-of-type {\n",
              "        vertical-align: middle;\n",
              "    }\n",
              "\n",
              "    .dataframe tbody tr th {\n",
              "        vertical-align: top;\n",
              "    }\n",
              "\n",
              "    .dataframe thead th {\n",
              "        text-align: right;\n",
              "    }\n",
              "</style>\n",
              "<table border=\"1\" class=\"dataframe\">\n",
              "  <thead>\n",
              "    <tr style=\"text-align: right;\">\n",
              "      <th></th>\n",
              "      <th>Unnamed: 0</th>\n",
              "      <th>LONGITUDE</th>\n",
              "      <th>LATITUDE</th>\n",
              "      <th>VALUE</th>\n",
              "    </tr>\n",
              "  </thead>\n",
              "  <tbody>\n",
              "    <tr>\n",
              "      <th>count</th>\n",
              "      <td>6717.000000</td>\n",
              "      <td>6717.000000</td>\n",
              "      <td>6717.000000</td>\n",
              "      <td>6717.000000</td>\n",
              "    </tr>\n",
              "    <tr>\n",
              "      <th>mean</th>\n",
              "      <td>1954.451987</td>\n",
              "      <td>-4.848680</td>\n",
              "      <td>6.219274</td>\n",
              "      <td>27.263808</td>\n",
              "    </tr>\n",
              "    <tr>\n",
              "      <th>std</th>\n",
              "      <td>1160.947796</td>\n",
              "      <td>1.282368</td>\n",
              "      <td>1.290844</td>\n",
              "      <td>132.464970</td>\n",
              "    </tr>\n",
              "    <tr>\n",
              "      <th>min</th>\n",
              "      <td>23.000000</td>\n",
              "      <td>-8.503889</td>\n",
              "      <td>0.000000</td>\n",
              "      <td>0.000000</td>\n",
              "    </tr>\n",
              "    <tr>\n",
              "      <th>25%</th>\n",
              "      <td>900.000000</td>\n",
              "      <td>-5.748333</td>\n",
              "      <td>5.338500</td>\n",
              "      <td>0.000000</td>\n",
              "    </tr>\n",
              "    <tr>\n",
              "      <th>50%</th>\n",
              "      <td>1955.000000</td>\n",
              "      <td>-4.076972</td>\n",
              "      <td>5.450278</td>\n",
              "      <td>0.000000</td>\n",
              "    </tr>\n",
              "    <tr>\n",
              "      <th>75%</th>\n",
              "      <td>2958.000000</td>\n",
              "      <td>-3.992278</td>\n",
              "      <td>6.843278</td>\n",
              "      <td>25.000000</td>\n",
              "    </tr>\n",
              "    <tr>\n",
              "      <th>max</th>\n",
              "      <td>3973.000000</td>\n",
              "      <td>-0.000000</td>\n",
              "      <td>10.481861</td>\n",
              "      <td>6750.000000</td>\n",
              "    </tr>\n",
              "  </tbody>\n",
              "</table>\n",
              "</div>"
            ],
            "text/plain": [
              "        Unnamed: 0    LONGITUDE     LATITUDE        VALUE\n",
              "count  6717.000000  6717.000000  6717.000000  6717.000000\n",
              "mean   1954.451987    -4.848680     6.219274    27.263808\n",
              "std    1160.947796     1.282368     1.290844   132.464970\n",
              "min      23.000000    -8.503889     0.000000     0.000000\n",
              "25%     900.000000    -5.748333     5.338500     0.000000\n",
              "50%    1955.000000    -4.076972     5.450278     0.000000\n",
              "75%    2958.000000    -3.992278     6.843278    25.000000\n",
              "max    3973.000000    -0.000000    10.481861  6750.000000"
            ]
          },
          "metadata": {
            "tags": []
          },
          "execution_count": 93
        }
      ]
    },
    {
      "cell_type": "code",
      "metadata": {
        "id": "3cgKjyKZFaZ3",
        "colab_type": "code",
        "colab": {
          "base_uri": "https://localhost:8080/",
          "height": 102
        },
        "outputId": "b6350c72-e6cd-4c3e-f444-74dc56445582"
      },
      "source": [
        "#11. longitute and latitude skewness\n",
        "df8.skew()"
      ],
      "execution_count": 94,
      "outputs": [
        {
          "output_type": "execute_result",
          "data": {
            "text/plain": [
              "Unnamed: 0     0.022633\n",
              "LONGITUDE     -0.765189\n",
              "LATITUDE       1.092626\n",
              "VALUE         29.371230\n",
              "dtype: float64"
            ]
          },
          "metadata": {
            "tags": []
          },
          "execution_count": 94
        }
      ]
    },
    {
      "cell_type": "code",
      "metadata": {
        "id": "eI1BZZoKGDru",
        "colab_type": "code",
        "colab": {
          "base_uri": "https://localhost:8080/",
          "height": 173
        },
        "outputId": "456246e6-0fa3-4105-b9d1-ecf8777fe6df"
      },
      "source": [
        "#12. correlation matrix of the longitute and latitude\n",
        "df8.corr()\n"
      ],
      "execution_count": 95,
      "outputs": [
        {
          "output_type": "execute_result",
          "data": {
            "text/html": [
              "<div>\n",
              "<style scoped>\n",
              "    .dataframe tbody tr th:only-of-type {\n",
              "        vertical-align: middle;\n",
              "    }\n",
              "\n",
              "    .dataframe tbody tr th {\n",
              "        vertical-align: top;\n",
              "    }\n",
              "\n",
              "    .dataframe thead th {\n",
              "        text-align: right;\n",
              "    }\n",
              "</style>\n",
              "<table border=\"1\" class=\"dataframe\">\n",
              "  <thead>\n",
              "    <tr style=\"text-align: right;\">\n",
              "      <th></th>\n",
              "      <th>Unnamed: 0</th>\n",
              "      <th>LONGITUDE</th>\n",
              "      <th>LATITUDE</th>\n",
              "      <th>VALUE</th>\n",
              "    </tr>\n",
              "  </thead>\n",
              "  <tbody>\n",
              "    <tr>\n",
              "      <th>Unnamed: 0</th>\n",
              "      <td>1.000000</td>\n",
              "      <td>-0.167723</td>\n",
              "      <td>0.054117</td>\n",
              "      <td>0.011009</td>\n",
              "    </tr>\n",
              "    <tr>\n",
              "      <th>LONGITUDE</th>\n",
              "      <td>-0.167723</td>\n",
              "      <td>1.000000</td>\n",
              "      <td>-0.467350</td>\n",
              "      <td>0.014461</td>\n",
              "    </tr>\n",
              "    <tr>\n",
              "      <th>LATITUDE</th>\n",
              "      <td>0.054117</td>\n",
              "      <td>-0.467350</td>\n",
              "      <td>1.000000</td>\n",
              "      <td>-0.018490</td>\n",
              "    </tr>\n",
              "    <tr>\n",
              "      <th>VALUE</th>\n",
              "      <td>0.011009</td>\n",
              "      <td>0.014461</td>\n",
              "      <td>-0.018490</td>\n",
              "      <td>1.000000</td>\n",
              "    </tr>\n",
              "  </tbody>\n",
              "</table>\n",
              "</div>"
            ],
            "text/plain": [
              "            Unnamed: 0  LONGITUDE  LATITUDE     VALUE\n",
              "Unnamed: 0    1.000000  -0.167723  0.054117  0.011009\n",
              "LONGITUDE    -0.167723   1.000000 -0.467350  0.014461\n",
              "LATITUDE      0.054117  -0.467350  1.000000 -0.018490\n",
              "VALUE         0.011009   0.014461 -0.018490  1.000000"
            ]
          },
          "metadata": {
            "tags": []
          },
          "execution_count": 95
        }
      ]
    }
  ]
}